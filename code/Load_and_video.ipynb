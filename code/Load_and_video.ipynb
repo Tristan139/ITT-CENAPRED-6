{
 "cells": [
  {
   "cell_type": "code",
   "execution_count": null,
   "metadata": {},
   "outputs": [],
   "source": [
    "import numpy as np\n",
    "import pandas as pd\n",
    "import matplotlib\n",
    "import matplotlib.pyplot as plt\n",
    "from matplotlib import cm\n",
    "import cartopy.crs as ccrs\n",
    "import cartopy.feature as cfeature\n",
    "from cartopy.mpl.ticker import LongitudeFormatter, LatitudeFormatter"
   ]
  },
  {
   "cell_type": "code",
   "execution_count": 3,
   "metadata": {},
   "outputs": [
    {
     "name": "stdout",
     "output_type": "stream",
     "text": [
      "            Fecha      Hora  Magnitud  Latitud  Longitud  Profundidad  \\\n",
      "0      2017-09-01  01:26:16       3.4  15.9832  -96.9505         25.8   \n",
      "1      2017-09-01  01:29:47       3.5  16.6938  -95.1257         94.8   \n",
      "2      2017-09-01  02:10:55       3.8  15.5425  -92.4787        187.6   \n",
      "3      2017-09-01  02:15:28       3.5  16.0508  -97.1588         26.3   \n",
      "4      2017-09-01  02:24:18       3.6  17.1730  -94.9790        121.0   \n",
      "...           ...       ...       ...      ...       ...          ...   \n",
      "54557  2021-05-10  02:10:19       3.8  15.9500  -95.6600         54.0   \n",
      "54558  2021-05-10  02:15:51       3.9  17.4100  -94.8400        144.0   \n",
      "54559  2021-05-10  03:35:19       3.9  14.9200  -94.0200         14.0   \n",
      "54560  2021-05-10  05:13:42       4.5  14.0000  -92.1500         43.0   \n",
      "54561  2021-05-10  08:41:23       4.0  16.5000  -95.3100         86.0   \n",
      "\n",
      "                       Referencia de localizacion   Fecha UTC  Hora UTC  \\\n",
      "0       18 km al NORESTE de PUERTO ESCONDIDO, OAX  2017-09-01  06:26:16   \n",
      "1               15 km al NORTE de CD IXTEPEC, OAX  2017-09-01  06:29:47   \n",
      "2           32 km al NOROESTE de MOTOZINTLA, CHIS  2017-09-01  07:10:55   \n",
      "3      23 km al NOROESTE de PUERTO ESCONDIDO, OAX  2017-09-01  07:15:28   \n",
      "4            34 km al NORTE de MATIAS ROMERO, OAX  2017-09-01  07:24:18   \n",
      "...                                           ...         ...       ...   \n",
      "54557          54 km al NORESTE de CRUCECITA, OAX  2021-05-10  07:10:19   \n",
      "54558       53 km al SUR de SAYULA DE ALEMAN, VER  2021-05-10  07:15:51   \n",
      "54559      121 km al SUROESTE de PIJIJIAPAN, CHIS  2021-05-10  08:35:19   \n",
      "54560            75 km al SUR de CD HIDALGO, CHIS  2021-05-10  10:13:42   \n",
      "54561       21 km al NOROESTE de TEHUANTEPEC, OAX  2021-05-10  13:41:23   \n",
      "\n",
      "          Estatus  \n",
      "0        revisado  \n",
      "1        revisado  \n",
      "2        revisado  \n",
      "3        revisado  \n",
      "4        revisado  \n",
      "...           ...  \n",
      "54557  verificado  \n",
      "54558  verificado  \n",
      "54559  verificado  \n",
      "54560  verificado  \n",
      "54561  verificado  \n",
      "\n",
      "[54562 rows x 10 columns]\n"
     ]
    }
   ],
   "source": [
    "# Open the earthquake data file.\n",
    "filename = './/SSNMX_catalogo_20170901_20210510_lat12d85_18d66_lon-97d26_-88d69.csv'\n",
    "df = pd.read_csv ('.//SSNMX_catalogo_20170901_20210510_lat12d85_18d66_lon-97d26_-88d69.csv', skiprows=4)\n",
    "\n",
    "df = df.dropna()\n",
    "print(df)"
   ]
  },
  {
   "cell_type": "code",
   "execution_count": 51,
   "metadata": {},
   "outputs": [
    {
     "data": {
      "image/png": "[encoded data removed]",
      "text/plain": [
       "<Figure size 864x504 with 1 Axes>"
      ]
     },
     "metadata": {
      "needs_background": "light"
     },
     "output_type": "display_data"
    }
   ],
   "source": [
    "# Create empty lists for the data we are interested in.\n",
    "\n",
    "#timestrings = df['Hora UTC'].to_numpy()\n",
    "\n",
    "\n",
    "lats=df['Latitud'].to_numpy()\n",
    "lons=df['Longitud'].to_numpy()\n",
    "magnitudes= df['Magnitud'].to_numpy()\n",
    "\n",
    "fig, ax = plt.subplots(figsize=(12,7))\n",
    "ax = plt.axes(projection=ccrs.PlateCarree(central_longitude=300)) # try centering the map somewhere else\n",
    "ax.set_extent([lons.min()-8, lons.max()+8, lats.min()-8, lats.max()+8])\n",
    "#ax.add_feature(cfeature.LAND)\n",
    "ax.add_feature(cfeature.COASTLINE)\n",
    "#ax.add_feature(states_provinces, edgecolor='gray')\n",
    "#ax.set_xticks([0, 60, 120, 180, 240, 300, 360], crs=ccrs.PlateCarree())\n",
    "#ax.set_yticks([-90, -60, -30, 0, 30, 60, 90], crs=ccrs.PlateCarree())\n",
    "lon_formatter = LongitudeFormatter(zero_direction_label=True)\n",
    "lat_formatter = LatitudeFormatter()\n",
    "ax.xaxis.set_major_formatter(lon_formatter)\n",
    "ax.yaxis.set_major_formatter(lat_formatter)\n",
    "\n",
    "norm = matplotlib.colors.Normalize(vmin=magnitudes.min(), vmax=magnitudes.max())\n",
    "\n",
    "def get_marker_color(magnitude):\n",
    "    # Returns green for small earthquakes, yellow for moderate\n",
    "    #  earthquakes, and red for significant earthquakes.\n",
    "    if magnitude < 3.0:\n",
    "        return ('green')\n",
    "    elif magnitude < 5.0:\n",
    "        return ('yellow')\n",
    "    elif magnitude < 7.0:\n",
    "        return ('red')\n",
    "    else:\n",
    "        return ('purple')\n",
    "\n",
    "min_marker_size = 2.25\n",
    "for lon, lat, mag in zip(lons, lats, magnitudes):\n",
    "    msize = mag * min_marker_size\n",
    "    ax.scatter(lon,lat,s=msize, zorder=10, color=get_marker_color(mag) ,transform=ccrs.PlateCarree())\n",
    "plt.show()"
   ]
  },
  {
   "cell_type": "code",
   "execution_count": null,
   "metadata": {},
   "outputs": [],
   "source": [
    "dates=df['Fecha'].values.tolist()\n",
    "dates= list(dict.fromkeys(dates))\n",
    "\n",
    "\n",
    "fig, ax = plt.subplots(figsize=(12,7))\n",
    "lats_all=df['Latitud'].to_numpy()\n",
    "lons_all=df['Longitud'].to_numpy()\n",
    "magnitudes= df['Magnitud'].to_numpy()\n",
    "def get_marker_color(magnitude):\n",
    "    # Returns green for small earthquakes, yellow for moderate\n",
    "    #  earthquakes, and red for significant earthquakes.\n",
    "    if magnitude < 3.0:\n",
    "        return ('green')\n",
    "    elif magnitude < 5.0:\n",
    "        return ('yellow')\n",
    "    elif magnitude < 7.0:\n",
    "        return ('red')\n",
    "    else:\n",
    "        return ('purple')\n",
    "min_marker_size = 2.25\n",
    "\n",
    "land_50m = cfeature.NaturalEarthFeature('physical', 'land', '50m',\n",
    "                                    edgecolor='face',\n",
    "                                    facecolor=cfeature.COLORS['land'])\n",
    "for i, date in enumerate(dates): \n",
    "    fig, ax = plt.subplots(figsize=(12,7))\n",
    "    ax = plt.axes(projection=ccrs.PlateCarree(central_longitude=300)) # try centering the map somewhere else\n",
    "    ax.set_extent([lons_all.min()-8, lons_all.max()+8, lats_all.min()-8, lats_all.max()+8])\n",
    "    #ax.add_feature(cfeature.LAND)\n",
    "    #ax.add_feature(cfeature.COASTLINE)\n",
    "    ax.add_feature(cfeature.OCEAN)\n",
    "    ax.add_feature(land_50m)\n",
    "    #ax.add_feature(states_provinces, edgecolor='gray')\n",
    "    #ax.set_xticks([0, 60, 120, 180, 240, 300, 360], crs=ccrs.PlateCarree())\n",
    "    #ax.set_yticks([-90, -60, -30, 0, 30, 60, 90], crs=ccrs.PlateCarree())\n",
    "    lon_formatter = LongitudeFormatter(zero_direction_label=True)\n",
    "    lat_formatter = LatitudeFormatter()\n",
    "    ax.xaxis.set_major_formatter(lon_formatter)\n",
    "    ax.yaxis.set_major_formatter(lat_formatter)\n",
    "\n",
    "    date_info=df.loc[df['Fecha'] == date]\n",
    "    lats=date_info['Latitud'].to_numpy()\n",
    "    lons=date_info['Longitud'].to_numpy()\n",
    "    magnitudes= date_info['Magnitud'].to_numpy()\n",
    "    for lon, lat, mag in zip(lons, lats, magnitudes):\n",
    "        msize = min_marker_size*mag\n",
    "        ax.scatter(lon,lat,s=msize, zorder=10, color=get_marker_color(mag) ,transform=ccrs.PlateCarree())\n",
    "    plt.savefig('Time_plot_'+str(i).zfill(5)+'.png')\n",
    "    plt.close()\n",
    "    \n",
    "\n",
    "import glob\n",
    "import cv2\n",
    " \n",
    "img_array = []\n",
    "for filename in glob.glob('.//Time_plot*.png'):\n",
    "    img = cv2.imread(filename)\n",
    "    height, width, layers = img.shape\n",
    "    size = (width,height)\n",
    "    img_array.append(img)\n",
    " \n",
    " \n",
    "out = cv2.VideoWriter('project.avi',cv2.VideoWriter_fourcc(*'DIVX'), 15, size)\n",
    " \n",
    "for i in range(len(img_array)):\n",
    "    out.write(img_array[i])\n",
    "for filename in glob.glob('.//Time_plot*.png'):\n",
    "    os.remove(filename)\n",
    "out.release()"
   ]
  },
  {
   "cell_type": "code",
   "execution_count": 82,
   "metadata": {},
   "outputs": [
    {
     "data": {
      "image/png": "[encoded data removed]",
      "text/plain": [
       "<Figure size 432x288 with 1 Axes>"
      ]
     },
     "metadata": {
      "needs_background": "light"
     },
     "output_type": "display_data"
    }
   ],
   "source": []
  },
  {
   "cell_type": "code",
   "execution_count": 86,
   "metadata": {},
   "outputs": [],
   "source": []
  },
  {
   "cell_type": "code",
   "execution_count": 3,
   "metadata": {},
   "outputs": [
    {
     "data": {
      "text/plain": [
       "array([[10.,  2.],\n",
       "       [ 1.,  2.]])"
      ]
     },
     "execution_count": 3,
     "metadata": {},
     "output_type": "execute_result"
    }
   ],
   "source": []
  },
  {
   "cell_type": "code",
   "execution_count": 88,
   "metadata": {},
   "outputs": [],
   "source": []
  },
  {
   "cell_type": "code",
   "execution_count": 17,
   "metadata": {},
   "outputs": [
    {
     "ename": "FileNotFoundError",
     "evalue": "[Errno 2] No such file or directory: 'datasets/earthquake_data.csv'",
     "output_type": "error",
     "traceback": [
      "\u001b[1;31m---------------------------------------------------------------------------\u001b[0m",
      "\u001b[1;31mFileNotFoundError\u001b[0m                         Traceback (most recent call last)",
      "\u001b[1;32m<ipython-input-17-ecdcf73cb9b0>\u001b[0m in \u001b[0;36m<module>\u001b[1;34m\u001b[0m\n\u001b[0;32m     11\u001b[0m \u001b[1;31m# Read through the entire file, skip the first line,\u001b[0m\u001b[1;33m\u001b[0m\u001b[1;33m\u001b[0m\u001b[1;33m\u001b[0m\u001b[0m\n\u001b[0;32m     12\u001b[0m \u001b[1;31m#  and pull out just the lats and lons.\u001b[0m\u001b[1;33m\u001b[0m\u001b[1;33m\u001b[0m\u001b[1;33m\u001b[0m\u001b[0m\n\u001b[1;32m---> 13\u001b[1;33m \u001b[1;32mwith\u001b[0m \u001b[0mopen\u001b[0m\u001b[1;33m(\u001b[0m\u001b[0mfilename\u001b[0m\u001b[1;33m)\u001b[0m \u001b[1;32mas\u001b[0m \u001b[0mf\u001b[0m\u001b[1;33m:\u001b[0m\u001b[1;33m\u001b[0m\u001b[1;33m\u001b[0m\u001b[0m\n\u001b[0m\u001b[0;32m     14\u001b[0m     \u001b[1;31m# Create a csv reader object.\u001b[0m\u001b[1;33m\u001b[0m\u001b[1;33m\u001b[0m\u001b[1;33m\u001b[0m\u001b[0m\n\u001b[0;32m     15\u001b[0m     \u001b[0mreader\u001b[0m \u001b[1;33m=\u001b[0m \u001b[0mcsv\u001b[0m\u001b[1;33m.\u001b[0m\u001b[0mreader\u001b[0m\u001b[1;33m(\u001b[0m\u001b[0mf\u001b[0m\u001b[1;33m)\u001b[0m\u001b[1;33m\u001b[0m\u001b[1;33m\u001b[0m\u001b[0m\n",
      "\u001b[1;31mFileNotFoundError\u001b[0m: [Errno 2] No such file or directory: 'datasets/earthquake_data.csv'"
     ]
    }
   ],
   "source": []
  },
  {
   "cell_type": "code",
   "execution_count": 24,
   "metadata": {
    "collapsed": true,
    "jupyter": {
     "outputs_hidden": true,
     "source_hidden": true
    }
   },
   "outputs": [
    {
     "ename": "AttributeError",
     "evalue": "module 'matplotlib.cbook' has no attribute '_deprecate_privatize_attribute'",
     "output_type": "error",
     "traceback": [
      "\u001b[1;31m---------------------------------------------------------------------------\u001b[0m",
      "\u001b[1;31mAttributeError\u001b[0m                            Traceback (most recent call last)",
      "\u001b[1;32m<ipython-input-24-d9467465a3b6>\u001b[0m in \u001b[0;36m<module>\u001b[1;34m\u001b[0m\n\u001b[1;32m----> 1\u001b[1;33m \u001b[1;32mfrom\u001b[0m \u001b[0mmpl_toolkits\u001b[0m\u001b[1;33m.\u001b[0m\u001b[0mbasemap\u001b[0m \u001b[1;32mimport\u001b[0m \u001b[0mBasemap\u001b[0m\u001b[1;33m\u001b[0m\u001b[1;33m\u001b[0m\u001b[0m\n\u001b[0m",
      "\u001b[1;32m~\\AppData\\Local\\Continuum\\anaconda3\\envs\\odl-py37\\lib\\site-packages\\mpl_toolkits\\basemap\\__init__.py\u001b[0m in \u001b[0;36m<module>\u001b[1;34m\u001b[0m\n\u001b[0;32m     40\u001b[0m \u001b[1;32mfrom\u001b[0m \u001b[0mmatplotlib\u001b[0m\u001b[1;33m.\u001b[0m\u001b[0mtransforms\u001b[0m \u001b[1;32mimport\u001b[0m \u001b[0mBbox\u001b[0m\u001b[1;33m\u001b[0m\u001b[1;33m\u001b[0m\u001b[0m\n\u001b[0;32m     41\u001b[0m \u001b[1;32mimport\u001b[0m \u001b[0mpyproj\u001b[0m\u001b[1;33m\u001b[0m\u001b[1;33m\u001b[0m\u001b[0m\n\u001b[1;32m---> 42\u001b[1;33m \u001b[1;32mfrom\u001b[0m \u001b[0mmpl_toolkits\u001b[0m\u001b[1;33m.\u001b[0m\u001b[0maxes_grid1\u001b[0m \u001b[1;32mimport\u001b[0m \u001b[0mmake_axes_locatable\u001b[0m\u001b[1;33m\u001b[0m\u001b[1;33m\u001b[0m\u001b[0m\n\u001b[0m\u001b[0;32m     43\u001b[0m \u001b[1;32mfrom\u001b[0m \u001b[0mmatplotlib\u001b[0m\u001b[1;33m.\u001b[0m\u001b[0mimage\u001b[0m \u001b[1;32mimport\u001b[0m \u001b[0mimread\u001b[0m\u001b[1;33m\u001b[0m\u001b[1;33m\u001b[0m\u001b[0m\n\u001b[0;32m     44\u001b[0m \u001b[1;32mimport\u001b[0m \u001b[0msys\u001b[0m\u001b[1;33m,\u001b[0m \u001b[0mos\u001b[0m\u001b[1;33m,\u001b[0m \u001b[0mmath\u001b[0m\u001b[1;33m\u001b[0m\u001b[1;33m\u001b[0m\u001b[0m\n",
      "\u001b[1;32m~\\AppData\\Local\\Continuum\\anaconda3\\envs\\odl-py37\\lib\\site-packages\\mpl_toolkits\\axes_grid1\\__init__.py\u001b[0m in \u001b[0;36m<module>\u001b[1;34m\u001b[0m\n\u001b[0;32m      1\u001b[0m \u001b[1;32mfrom\u001b[0m \u001b[1;33m.\u001b[0m \u001b[1;32mimport\u001b[0m \u001b[0maxes_size\u001b[0m \u001b[1;32mas\u001b[0m \u001b[0mSize\u001b[0m\u001b[1;33m\u001b[0m\u001b[1;33m\u001b[0m\u001b[0m\n\u001b[0;32m      2\u001b[0m \u001b[1;32mfrom\u001b[0m \u001b[1;33m.\u001b[0m\u001b[0maxes_divider\u001b[0m \u001b[1;32mimport\u001b[0m \u001b[0mDivider\u001b[0m\u001b[1;33m,\u001b[0m \u001b[0mSubplotDivider\u001b[0m\u001b[1;33m,\u001b[0m \u001b[0mmake_axes_locatable\u001b[0m\u001b[1;33m\u001b[0m\u001b[1;33m\u001b[0m\u001b[0m\n\u001b[1;32m----> 3\u001b[1;33m \u001b[1;32mfrom\u001b[0m \u001b[1;33m.\u001b[0m\u001b[0maxes_grid\u001b[0m \u001b[1;32mimport\u001b[0m \u001b[0mGrid\u001b[0m\u001b[1;33m,\u001b[0m \u001b[0mImageGrid\u001b[0m\u001b[1;33m,\u001b[0m \u001b[0mAxesGrid\u001b[0m\u001b[1;33m\u001b[0m\u001b[1;33m\u001b[0m\u001b[0m\n\u001b[0m\u001b[0;32m      4\u001b[0m \u001b[1;33m\u001b[0m\u001b[0m\n\u001b[0;32m      5\u001b[0m \u001b[1;32mfrom\u001b[0m \u001b[1;33m.\u001b[0m\u001b[0mparasite_axes\u001b[0m \u001b[1;32mimport\u001b[0m \u001b[0mhost_subplot\u001b[0m\u001b[1;33m,\u001b[0m \u001b[0mhost_axes\u001b[0m\u001b[1;33m\u001b[0m\u001b[1;33m\u001b[0m\u001b[0m\n",
      "\u001b[1;32m~\\AppData\\Local\\Continuum\\anaconda3\\envs\\odl-py37\\lib\\site-packages\\mpl_toolkits\\axes_grid1\\axes_grid.py\u001b[0m in \u001b[0;36m<module>\u001b[1;34m\u001b[0m\n\u001b[0;32m     20\u001b[0m \u001b[1;33m\u001b[0m\u001b[0m\n\u001b[0;32m     21\u001b[0m \u001b[1;33m\u001b[0m\u001b[0m\n\u001b[1;32m---> 22\u001b[1;33m \u001b[1;32mclass\u001b[0m \u001b[0mCbarAxesBase\u001b[0m\u001b[1;33m:\u001b[0m\u001b[1;33m\u001b[0m\u001b[1;33m\u001b[0m\u001b[0m\n\u001b[0m\u001b[0;32m     23\u001b[0m     \u001b[1;32mdef\u001b[0m \u001b[0m__init__\u001b[0m\u001b[1;33m(\u001b[0m\u001b[0mself\u001b[0m\u001b[1;33m,\u001b[0m \u001b[1;33m*\u001b[0m\u001b[0margs\u001b[0m\u001b[1;33m,\u001b[0m \u001b[0morientation\u001b[0m\u001b[1;33m,\u001b[0m \u001b[1;33m**\u001b[0m\u001b[0mkwargs\u001b[0m\u001b[1;33m)\u001b[0m\u001b[1;33m:\u001b[0m\u001b[1;33m\u001b[0m\u001b[1;33m\u001b[0m\u001b[0m\n\u001b[0;32m     24\u001b[0m         \u001b[0mself\u001b[0m\u001b[1;33m.\u001b[0m\u001b[0morientation\u001b[0m \u001b[1;33m=\u001b[0m \u001b[0morientation\u001b[0m\u001b[1;33m\u001b[0m\u001b[1;33m\u001b[0m\u001b[0m\n",
      "\u001b[1;32m~\\AppData\\Local\\Continuum\\anaconda3\\envs\\odl-py37\\lib\\site-packages\\mpl_toolkits\\axes_grid1\\axes_grid.py\u001b[0m in \u001b[0;36mCbarAxesBase\u001b[1;34m()\u001b[0m\n\u001b[0;32m     60\u001b[0m         \u001b[1;32mreturn\u001b[0m \u001b[0mcb\u001b[0m\u001b[1;33m\u001b[0m\u001b[1;33m\u001b[0m\u001b[0m\n\u001b[0;32m     61\u001b[0m \u001b[1;33m\u001b[0m\u001b[0m\n\u001b[1;32m---> 62\u001b[1;33m     cbid = cbook._deprecate_privatize_attribute(\n\u001b[0m\u001b[0;32m     63\u001b[0m         \"3.3\", alternative=\"mappable.colorbar_cid\")\n\u001b[0;32m     64\u001b[0m     locator = cbook._deprecate_privatize_attribute(\n",
      "\u001b[1;31mAttributeError\u001b[0m: module 'matplotlib.cbook' has no attribute '_deprecate_privatize_attribute'"
     ]
    }
   ],
   "source": []
  },
  {
   "cell_type": "code",
   "execution_count": 25,
   "metadata": {},
   "outputs": [
    {
     "ename": "AttributeError",
     "evalue": "module 'matplotlib.cbook' has no attribute '_deprecate_privatize_attribute'",
     "output_type": "error",
     "traceback": [
      "\u001b[1;31m---------------------------------------------------------------------------\u001b[0m",
      "\u001b[1;31mAttributeError\u001b[0m                            Traceback (most recent call last)",
      "\u001b[1;32m<ipython-input-25-d9467465a3b6>\u001b[0m in \u001b[0;36m<module>\u001b[1;34m\u001b[0m\n\u001b[1;32m----> 1\u001b[1;33m \u001b[1;32mfrom\u001b[0m \u001b[0mmpl_toolkits\u001b[0m\u001b[1;33m.\u001b[0m\u001b[0mbasemap\u001b[0m \u001b[1;32mimport\u001b[0m \u001b[0mBasemap\u001b[0m\u001b[1;33m\u001b[0m\u001b[1;33m\u001b[0m\u001b[0m\n\u001b[0m",
      "\u001b[1;32m~\\AppData\\Local\\Continuum\\anaconda3\\envs\\odl-py37\\lib\\site-packages\\mpl_toolkits\\basemap\\__init__.py\u001b[0m in \u001b[0;36m<module>\u001b[1;34m\u001b[0m\n\u001b[0;32m     40\u001b[0m \u001b[1;32mfrom\u001b[0m \u001b[0mmatplotlib\u001b[0m\u001b[1;33m.\u001b[0m\u001b[0mtransforms\u001b[0m \u001b[1;32mimport\u001b[0m \u001b[0mBbox\u001b[0m\u001b[1;33m\u001b[0m\u001b[1;33m\u001b[0m\u001b[0m\n\u001b[0;32m     41\u001b[0m \u001b[1;32mimport\u001b[0m \u001b[0mpyproj\u001b[0m\u001b[1;33m\u001b[0m\u001b[1;33m\u001b[0m\u001b[0m\n\u001b[1;32m---> 42\u001b[1;33m \u001b[1;32mfrom\u001b[0m \u001b[0mmpl_toolkits\u001b[0m\u001b[1;33m.\u001b[0m\u001b[0maxes_grid1\u001b[0m \u001b[1;32mimport\u001b[0m \u001b[0mmake_axes_locatable\u001b[0m\u001b[1;33m\u001b[0m\u001b[1;33m\u001b[0m\u001b[0m\n\u001b[0m\u001b[0;32m     43\u001b[0m \u001b[1;32mfrom\u001b[0m \u001b[0mmatplotlib\u001b[0m\u001b[1;33m.\u001b[0m\u001b[0mimage\u001b[0m \u001b[1;32mimport\u001b[0m \u001b[0mimread\u001b[0m\u001b[1;33m\u001b[0m\u001b[1;33m\u001b[0m\u001b[0m\n\u001b[0;32m     44\u001b[0m \u001b[1;32mimport\u001b[0m \u001b[0msys\u001b[0m\u001b[1;33m,\u001b[0m \u001b[0mos\u001b[0m\u001b[1;33m,\u001b[0m \u001b[0mmath\u001b[0m\u001b[1;33m\u001b[0m\u001b[1;33m\u001b[0m\u001b[0m\n",
      "\u001b[1;32m~\\AppData\\Local\\Continuum\\anaconda3\\envs\\odl-py37\\lib\\site-packages\\mpl_toolkits\\axes_grid1\\__init__.py\u001b[0m in \u001b[0;36m<module>\u001b[1;34m\u001b[0m\n\u001b[0;32m      1\u001b[0m \u001b[1;32mfrom\u001b[0m \u001b[1;33m.\u001b[0m \u001b[1;32mimport\u001b[0m \u001b[0maxes_size\u001b[0m \u001b[1;32mas\u001b[0m \u001b[0mSize\u001b[0m\u001b[1;33m\u001b[0m\u001b[1;33m\u001b[0m\u001b[0m\n\u001b[0;32m      2\u001b[0m \u001b[1;32mfrom\u001b[0m \u001b[1;33m.\u001b[0m\u001b[0maxes_divider\u001b[0m \u001b[1;32mimport\u001b[0m \u001b[0mDivider\u001b[0m\u001b[1;33m,\u001b[0m \u001b[0mSubplotDivider\u001b[0m\u001b[1;33m,\u001b[0m \u001b[0mmake_axes_locatable\u001b[0m\u001b[1;33m\u001b[0m\u001b[1;33m\u001b[0m\u001b[0m\n\u001b[1;32m----> 3\u001b[1;33m \u001b[1;32mfrom\u001b[0m \u001b[1;33m.\u001b[0m\u001b[0maxes_grid\u001b[0m \u001b[1;32mimport\u001b[0m \u001b[0mGrid\u001b[0m\u001b[1;33m,\u001b[0m \u001b[0mImageGrid\u001b[0m\u001b[1;33m,\u001b[0m \u001b[0mAxesGrid\u001b[0m\u001b[1;33m\u001b[0m\u001b[1;33m\u001b[0m\u001b[0m\n\u001b[0m\u001b[0;32m      4\u001b[0m \u001b[1;33m\u001b[0m\u001b[0m\n\u001b[0;32m      5\u001b[0m \u001b[1;32mfrom\u001b[0m \u001b[1;33m.\u001b[0m\u001b[0mparasite_axes\u001b[0m \u001b[1;32mimport\u001b[0m \u001b[0mhost_subplot\u001b[0m\u001b[1;33m,\u001b[0m \u001b[0mhost_axes\u001b[0m\u001b[1;33m\u001b[0m\u001b[1;33m\u001b[0m\u001b[0m\n",
      "\u001b[1;32m~\\AppData\\Local\\Continuum\\anaconda3\\envs\\odl-py37\\lib\\site-packages\\mpl_toolkits\\axes_grid1\\axes_grid.py\u001b[0m in \u001b[0;36m<module>\u001b[1;34m\u001b[0m\n\u001b[0;32m     20\u001b[0m \u001b[1;33m\u001b[0m\u001b[0m\n\u001b[0;32m     21\u001b[0m \u001b[1;33m\u001b[0m\u001b[0m\n\u001b[1;32m---> 22\u001b[1;33m \u001b[1;32mclass\u001b[0m \u001b[0mCbarAxesBase\u001b[0m\u001b[1;33m:\u001b[0m\u001b[1;33m\u001b[0m\u001b[1;33m\u001b[0m\u001b[0m\n\u001b[0m\u001b[0;32m     23\u001b[0m     \u001b[1;32mdef\u001b[0m \u001b[0m__init__\u001b[0m\u001b[1;33m(\u001b[0m\u001b[0mself\u001b[0m\u001b[1;33m,\u001b[0m \u001b[1;33m*\u001b[0m\u001b[0margs\u001b[0m\u001b[1;33m,\u001b[0m \u001b[0morientation\u001b[0m\u001b[1;33m,\u001b[0m \u001b[1;33m**\u001b[0m\u001b[0mkwargs\u001b[0m\u001b[1;33m)\u001b[0m\u001b[1;33m:\u001b[0m\u001b[1;33m\u001b[0m\u001b[1;33m\u001b[0m\u001b[0m\n\u001b[0;32m     24\u001b[0m         \u001b[0mself\u001b[0m\u001b[1;33m.\u001b[0m\u001b[0morientation\u001b[0m \u001b[1;33m=\u001b[0m \u001b[0morientation\u001b[0m\u001b[1;33m\u001b[0m\u001b[1;33m\u001b[0m\u001b[0m\n",
      "\u001b[1;32m~\\AppData\\Local\\Continuum\\anaconda3\\envs\\odl-py37\\lib\\site-packages\\mpl_toolkits\\axes_grid1\\axes_grid.py\u001b[0m in \u001b[0;36mCbarAxesBase\u001b[1;34m()\u001b[0m\n\u001b[0;32m     60\u001b[0m         \u001b[1;32mreturn\u001b[0m \u001b[0mcb\u001b[0m\u001b[1;33m\u001b[0m\u001b[1;33m\u001b[0m\u001b[0m\n\u001b[0;32m     61\u001b[0m \u001b[1;33m\u001b[0m\u001b[0m\n\u001b[1;32m---> 62\u001b[1;33m     cbid = cbook._deprecate_privatize_attribute(\n\u001b[0m\u001b[0;32m     63\u001b[0m         \"3.3\", alternative=\"mappable.colorbar_cid\")\n\u001b[0;32m     64\u001b[0m     locator = cbook._deprecate_privatize_attribute(\n",
      "\u001b[1;31mAttributeError\u001b[0m: module 'matplotlib.cbook' has no attribute '_deprecate_privatize_attribute'"
     ]
    }
   ],
   "source": []
  },
  {
   "cell_type": "code",
   "execution_count": null,
   "metadata": {},
   "outputs": [],
   "source": []
  }
 ],
 "metadata": {
  "kernelspec": {
   "display_name": "Python 3",
   "language": "python",
   "name": "python3"
  },
  "language_info": {
   "codemirror_mode": {
    "name": "ipython",
    "version": 3
   },
   "file_extension": ".py",
   "mimetype": "text/x-python",
   "name": "python",
   "nbconvert_exporter": "python",
   "pygments_lexer": "ipython3",
   "version": "3.7.6"
  }
 },
 "nbformat": 4,
 "nbformat_minor": 4
}
