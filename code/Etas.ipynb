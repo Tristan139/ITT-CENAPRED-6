{
 "cells": [
  {
   "cell_type": "code",
   "execution_count": 3,
   "id": "168a3e28",
   "metadata": {},
   "outputs": [],
   "source": [
    "import numpy as np # linear algebra\n",
    "import pandas as pd # data processing, CSV file I/O (e.g. pd.read_csv)\n",
    "from scipy import stats, optimize\n",
    "from sklearn.neighbors import KernelDensity\n",
    "from sklearn.model_selection import GridSearchCV\n",
    "from sklearn.model_selection import LeaveOneOut\n",
    "import matplotlib.pyplot as plt\n",
    "import seaborn as sns\n",
    "sns.set()\n",
    "import os"
   ]
  },
  {
   "cell_type": "code",
   "execution_count": 4,
   "id": "9af1fb37",
   "metadata": {},
   "outputs": [],
   "source": [
    "\n",
    "# Japan earthquakes from kaggle\n",
    "df = pd.read_csv(\"database.csv\")"
   ]
  },
  {
   "cell_type": "code",
   "execution_count": 11,
   "id": "f5ea3447",
   "metadata": {},
   "outputs": [],
   "source": [
    "df = df.drop([3378,7512,20650]) #Drop error data"
   ]
  },
  {
   "cell_type": "code",
   "execution_count": 12,
   "id": "1a9f963e",
   "metadata": {},
   "outputs": [
    {
     "data": {
      "text/html": [
       "<div>\n",
       "<style scoped>\n",
       "    .dataframe tbody tr th:only-of-type {\n",
       "        vertical-align: middle;\n",
       "    }\n",
       "\n",
       "    .dataframe tbody tr th {\n",
       "        vertical-align: top;\n",
       "    }\n",
       "\n",
       "    .dataframe thead th {\n",
       "        text-align: right;\n",
       "    }\n",
       "</style>\n",
       "<table border=\"1\" class=\"dataframe\">\n",
       "  <thead>\n",
       "    <tr style=\"text-align: right;\">\n",
       "      <th></th>\n",
       "      <th>Latitude</th>\n",
       "      <th>Longitude</th>\n",
       "      <th>Depth</th>\n",
       "      <th>Depth Error</th>\n",
       "      <th>Depth Seismic Stations</th>\n",
       "      <th>Magnitude</th>\n",
       "      <th>Magnitude Error</th>\n",
       "      <th>Magnitude Seismic Stations</th>\n",
       "      <th>Azimuthal Gap</th>\n",
       "      <th>Horizontal Distance</th>\n",
       "      <th>Horizontal Error</th>\n",
       "      <th>Root Mean Square</th>\n",
       "    </tr>\n",
       "  </thead>\n",
       "  <tbody>\n",
       "    <tr>\n",
       "      <th>count</th>\n",
       "      <td>23409.000000</td>\n",
       "      <td>23409.000000</td>\n",
       "      <td>23409.000000</td>\n",
       "      <td>4460.000000</td>\n",
       "      <td>7096.000000</td>\n",
       "      <td>23409.000000</td>\n",
       "      <td>327.000000</td>\n",
       "      <td>2564.000000</td>\n",
       "      <td>7298.000000</td>\n",
       "      <td>1604.000000</td>\n",
       "      <td>1156.000000</td>\n",
       "      <td>17350.000000</td>\n",
       "    </tr>\n",
       "    <tr>\n",
       "      <th>mean</th>\n",
       "      <td>1.678763</td>\n",
       "      <td>39.636726</td>\n",
       "      <td>70.748526</td>\n",
       "      <td>4.991118</td>\n",
       "      <td>275.362176</td>\n",
       "      <td>5.882558</td>\n",
       "      <td>0.071820</td>\n",
       "      <td>48.944618</td>\n",
       "      <td>44.165158</td>\n",
       "      <td>3.992660</td>\n",
       "      <td>7.662759</td>\n",
       "      <td>1.022766</td>\n",
       "    </tr>\n",
       "    <tr>\n",
       "      <th>std</th>\n",
       "      <td>30.113379</td>\n",
       "      <td>125.514881</td>\n",
       "      <td>122.605748</td>\n",
       "      <td>4.873905</td>\n",
       "      <td>162.152976</td>\n",
       "      <td>0.423084</td>\n",
       "      <td>0.051466</td>\n",
       "      <td>62.943106</td>\n",
       "      <td>32.143388</td>\n",
       "      <td>5.377262</td>\n",
       "      <td>10.430396</td>\n",
       "      <td>0.188544</td>\n",
       "    </tr>\n",
       "    <tr>\n",
       "      <th>min</th>\n",
       "      <td>-77.080000</td>\n",
       "      <td>-179.997000</td>\n",
       "      <td>-1.100000</td>\n",
       "      <td>0.000000</td>\n",
       "      <td>0.000000</td>\n",
       "      <td>5.500000</td>\n",
       "      <td>0.000000</td>\n",
       "      <td>0.000000</td>\n",
       "      <td>0.000000</td>\n",
       "      <td>0.004505</td>\n",
       "      <td>0.085000</td>\n",
       "      <td>0.000000</td>\n",
       "    </tr>\n",
       "    <tr>\n",
       "      <th>25%</th>\n",
       "      <td>-18.652000</td>\n",
       "      <td>-76.352000</td>\n",
       "      <td>14.530000</td>\n",
       "      <td>1.800000</td>\n",
       "      <td>146.000000</td>\n",
       "      <td>5.600000</td>\n",
       "      <td>0.046000</td>\n",
       "      <td>10.000000</td>\n",
       "      <td>24.100000</td>\n",
       "      <td>0.968750</td>\n",
       "      <td>5.300000</td>\n",
       "      <td>0.900000</td>\n",
       "    </tr>\n",
       "    <tr>\n",
       "      <th>50%</th>\n",
       "      <td>-3.569000</td>\n",
       "      <td>103.981000</td>\n",
       "      <td>33.000000</td>\n",
       "      <td>3.500000</td>\n",
       "      <td>255.000000</td>\n",
       "      <td>5.700000</td>\n",
       "      <td>0.059000</td>\n",
       "      <td>28.000000</td>\n",
       "      <td>36.000000</td>\n",
       "      <td>2.319500</td>\n",
       "      <td>6.700000</td>\n",
       "      <td>1.000000</td>\n",
       "    </tr>\n",
       "    <tr>\n",
       "      <th>75%</th>\n",
       "      <td>26.188000</td>\n",
       "      <td>145.027000</td>\n",
       "      <td>54.000000</td>\n",
       "      <td>6.300000</td>\n",
       "      <td>384.000000</td>\n",
       "      <td>6.000000</td>\n",
       "      <td>0.075500</td>\n",
       "      <td>66.000000</td>\n",
       "      <td>54.000000</td>\n",
       "      <td>4.724500</td>\n",
       "      <td>8.100000</td>\n",
       "      <td>1.130000</td>\n",
       "    </tr>\n",
       "    <tr>\n",
       "      <th>max</th>\n",
       "      <td>86.005000</td>\n",
       "      <td>179.998000</td>\n",
       "      <td>700.000000</td>\n",
       "      <td>91.295000</td>\n",
       "      <td>934.000000</td>\n",
       "      <td>9.100000</td>\n",
       "      <td>0.410000</td>\n",
       "      <td>821.000000</td>\n",
       "      <td>360.000000</td>\n",
       "      <td>37.874000</td>\n",
       "      <td>99.000000</td>\n",
       "      <td>3.440000</td>\n",
       "    </tr>\n",
       "  </tbody>\n",
       "</table>\n",
       "</div>"
      ],
      "text/plain": [
       "           Latitude     Longitude         Depth  Depth Error  \\\n",
       "count  23409.000000  23409.000000  23409.000000  4460.000000   \n",
       "mean       1.678763     39.636726     70.748526     4.991118   \n",
       "std       30.113379    125.514881    122.605748     4.873905   \n",
       "min      -77.080000   -179.997000     -1.100000     0.000000   \n",
       "25%      -18.652000    -76.352000     14.530000     1.800000   \n",
       "50%       -3.569000    103.981000     33.000000     3.500000   \n",
       "75%       26.188000    145.027000     54.000000     6.300000   \n",
       "max       86.005000    179.998000    700.000000    91.295000   \n",
       "\n",
       "       Depth Seismic Stations     Magnitude  Magnitude Error  \\\n",
       "count             7096.000000  23409.000000       327.000000   \n",
       "mean               275.362176      5.882558         0.071820   \n",
       "std                162.152976      0.423084         0.051466   \n",
       "min                  0.000000      5.500000         0.000000   \n",
       "25%                146.000000      5.600000         0.046000   \n",
       "50%                255.000000      5.700000         0.059000   \n",
       "75%                384.000000      6.000000         0.075500   \n",
       "max                934.000000      9.100000         0.410000   \n",
       "\n",
       "       Magnitude Seismic Stations  Azimuthal Gap  Horizontal Distance  \\\n",
       "count                 2564.000000    7298.000000          1604.000000   \n",
       "mean                    48.944618      44.165158             3.992660   \n",
       "std                     62.943106      32.143388             5.377262   \n",
       "min                      0.000000       0.000000             0.004505   \n",
       "25%                     10.000000      24.100000             0.968750   \n",
       "50%                     28.000000      36.000000             2.319500   \n",
       "75%                     66.000000      54.000000             4.724500   \n",
       "max                    821.000000     360.000000            37.874000   \n",
       "\n",
       "       Horizontal Error  Root Mean Square  \n",
       "count       1156.000000      17350.000000  \n",
       "mean           7.662759          1.022766  \n",
       "std           10.430396          0.188544  \n",
       "min            0.085000          0.000000  \n",
       "25%            5.300000          0.900000  \n",
       "50%            6.700000          1.000000  \n",
       "75%            8.100000          1.130000  \n",
       "max           99.000000          3.440000  "
      ]
     },
     "execution_count": 12,
     "metadata": {},
     "output_type": "execute_result"
    }
   ],
   "source": [
    "df.describe()"
   ]
  },
  {
   "cell_type": "code",
   "execution_count": 31,
   "id": "22d171cb",
   "metadata": {},
   "outputs": [],
   "source": [
    "# Conditional intensity λ with log-entries\n",
    "def λ(param,Tmax,Mc,Ti,Mi,T):\n",
    "    a,c,p,k,mu = np.exp(param)\n",
    "    return mu+((T>Ti)*k*np.exp(a*(Mi - Mc))/((T>Ti)*(T - Ti) + c)**p).sum()"
   ]
  },
  {
   "cell_type": "code",
   "execution_count": 32,
   "id": "da4d471e",
   "metadata": {},
   "outputs": [],
   "source": [
    "# Cumulative intensity Λ(t) = \\int_0^t λ(s)ds\n",
    "def Λ(param,Tmax,Mc,Ti,Mi,T):\n",
    "    a,c,p,k,mu=np.exp(param)    \n",
    "    if abs(p-1)<0.001:\n",
    "        N = mu*T + ((T>=Ti)*k*np.exp(a*(Mi - Mc))* \\\n",
    "                    ( (np.log((T>=Ti)*(T - Ti)+ c)**1-np.log(c)**1) \\\n",
    "                     +(np.log((T>=Ti)*(T - Ti)+ c)**2-np.log(c)**2)*(1-p)**1/2 \\\n",
    "                     +(np.log((T>=Ti)*(T - Ti)+ c)**3-np.log(c)**3)*(1-p)**2/6 \\\n",
    "                   )).sum() #using Taylor series at p=1\n",
    "    else:\n",
    "        N = mu*T + ((T>=Ti)*k*np.exp(a*(Mi - Mc))*(((T>=Ti)*(T - Ti) + c)**(1-p)-c**(1-p))/(1-p)).sum()\n",
    "    return N"
   ]
  },
  {
   "cell_type": "code",
   "execution_count": 64,
   "id": "164ae049",
   "metadata": {},
   "outputs": [],
   "source": [
    "def minusloglik(param,Tmax,Mc,Ti,Mi):\n",
    "    a,c,p,k,mu=np.exp(param)\n",
    "    if abs(p-1)<0.001:\n",
    "        loglik = np.array([np.log(mu+((t>Ti)*k*np.exp(a*(Mi - Mc))/((t>Ti)*(t - Ti) + c)**p).sum()) for t in Ti]).sum() \\\n",
    "                   - mu*Tmax - ((Tmax>=Ti)*k*np.exp(a*(Mi - Mc))* \\\n",
    "                   ( (np.log((Tmax>=Ti)*(Tmax - Ti)+ c)**1-np.log(c)**1) \\\n",
    "                    +(np.log((Tmax>=Ti)*(Tmax - Ti)+ c)**2-np.log(c)**2)*(1-p)**1/2 \\\n",
    "                    +(np.log((Tmax>=Ti)*(Tmax - Ti)+ c)**3-np.log(c)**3)*(1-p)**2/6 \\\n",
    "                   )).sum()\n",
    "    else:\n",
    "        loglik = np.array([np.log(mu+((t>Ti)*k*np.exp(a*(Mi - Mc))/((t>Ti)*(t - Ti) + c)**p).sum()) for t in Ti]).sum() \\\n",
    "                   - mu*Tmax - ((Tmax>=Ti)*k*np.exp(a*(Mi - Mc))*(((Tmax>=Ti)*(Tmax - Ti) + c)**(1-p)-c**(1-p))/(1-p)).sum()\n",
    "    return -loglik"
   ]
  },
  {
   "cell_type": "code",
   "execution_count": 65,
   "id": "de8b3f89",
   "metadata": {},
   "outputs": [],
   "source": [
    "def gradminusloglik(param,Tmax,Mc,Ti,Mi):\n",
    "    a,c,p,k,mu=np.exp(param)\n",
    "    grad=np.zeros(5)\n",
    "    \n",
    "    #∂/∂xΣlogλ(t,x)\n",
    "    for i, t in enumerate(Ti):\n",
    "        ramda=mu+((t>Ti)*k*np.exp(a*(Mi - Mc))/((t>Ti)*(t - Ti) + c)**p).sum()\n",
    "        grad[0]+=((t>Ti)*k*np.exp(a*(Mi - Mc))*(Mi - Mc)                      /((t>Ti)*(t - Ti) + c)**p    ).sum()/ramda\n",
    "        grad[1]+=((t>Ti)*k*np.exp(a*(Mi - Mc))*(-p)                           /((t>Ti)*(t - Ti) + c)**(p+1)).sum()/ramda\n",
    "        grad[2]+=((t>Ti)*k*np.exp(a*(Mi - Mc))*np.log(1/((t>Ti)*(t - Ti) + c))/((t>Ti)*(t - Ti) + c)**p    ).sum()/ramda\n",
    "        grad[3]+=((t>Ti)*1*np.exp(a*(Mi - Mc))                                /((t>Ti)*(t - Ti) + c)**p    ).sum()/ramda\n",
    "        grad[4]+= 1/ramda\n",
    "\n",
    "    #∂/∂x∫λ(t,t)dt\n",
    "    if abs(p-1)<0.001:\n",
    "        grad[0]+= - ((Tmax>=Ti)*k*np.exp(a*(Mi - Mc))*(Mi - Mc)* \\\n",
    "                       (    (np.log((Tmax>=Ti)*(Tmax - Ti)+ c)**1-np.log(c)**1) \\\n",
    "                           +(np.log((Tmax>=Ti)*(Tmax - Ti)+ c)**2-np.log(c)**2)*(1-p)**1/2 \\\n",
    "                           +(np.log((Tmax>=Ti)*(Tmax - Ti)+ c)**3-np.log(c)**3)*(1-p)**2/6 \\\n",
    "                       )).sum() \n",
    "        grad[1]+= - ((Tmax>=Ti)*k*np.exp(a*(Mi - Mc))*(((Tmax>=Ti)*(Tmax - Ti) + c)**(0-p)-c**(0-p))).sum()\n",
    "        grad[2]+= - ((Tmax>=Ti)*k*np.exp(a*(Mi - Mc))* \\\n",
    "                       (   -(np.log((Tmax>=Ti)*(Tmax - Ti)+ c)**2-np.log(c)**2)/2 \\\n",
    "                           -(np.log((Tmax>=Ti)*(Tmax - Ti)+ c)**3-np.log(c)**3)*(1-p)/3 \\\n",
    "                           -(np.log((Tmax>=Ti)*(Tmax - Ti)+ c)**4-np.log(c)**4)*(1-p)**2/8 \\\n",
    "                       )).sum()\n",
    "        grad[3]+= - ((Tmax>=Ti)*np.exp(a*(Mi - Mc))* \\\n",
    "                       (    (np.log((Tmax>=Ti)*(Tmax - Ti)+ c)**1-np.log(c)**1) \\\n",
    "                           +(np.log((Tmax>=Ti)*(Tmax - Ti)+ c)**2-np.log(c)**2)*(1-p)**1/2 \\\n",
    "                           +(np.log((Tmax>=Ti)*(Tmax - Ti)+ c)**3-np.log(c)**3)*(1-p)**2/6 \\\n",
    "                       )).sum()\n",
    "        grad[4]+= - Tmax\n",
    "\n",
    "    else:\n",
    "        dp=0.001\n",
    "        pp0=(((Tmax>=Ti)*(Tmax - Ti) + c)**(1-p+dp/2)-c**(1-p+dp/2))/(1-p+dp/2)\n",
    "        pp1=(((Tmax>=Ti)*(Tmax - Ti) + c)**(1-p-dp/2)-c**(1-p-dp/2))/(1-p-dp/2)\n",
    "        pp = (pp1-pp0)/dp\n",
    "        \n",
    "        grad[0]+= - ((Tmax>=Ti)*k*np.exp(a*(Mi - Mc))*(Mi - Mc)*(((Tmax>=Ti)*(Tmax - Ti) + c)**(1-p)-c**(1-p))/(1-p)).sum()\n",
    "        grad[1]+= - ((Tmax>=Ti)*k*np.exp(a*(Mi - Mc))*1        *(((Tmax>=Ti)*(Tmax - Ti) + c)**(0-p)-c**(0-p)      )).sum()\n",
    "        grad[2]+= - ((Tmax>=Ti)*k*np.exp(a*(Mi - Mc))*pp                                                            ).sum()\n",
    "        grad[3]+= - ((Tmax>=Ti)*1*np.exp(a*(Mi - Mc))*1        *(((Tmax>=Ti)*(Tmax - Ti) + c)**(1-p)-c**(1-p))/(1-p)).sum()\n",
    "        grad[4]+= - Tmax\n",
    "\n",
    "    return -grad*np.exp(param) #∂f(x)/∂(log(x))=∂f(x)/∂x*x"
   ]
  },
  {
   "cell_type": "code",
   "execution_count": 14,
   "id": "aad13c2e",
   "metadata": {},
   "outputs": [],
   "source": [
    "\n",
    "# Slice data\n",
    "df_japan = df.query('25 < Latitude < 50 and 125 < Longitude < 150')\n",
    "df_japan = df_japan.reset_index(drop=True)\n",
    "df_japan[\"Date_Time\"] = pd.to_datetime(df_japan[\"Date\"]+\" \"+df_japan[\"Time\"], format = \"%m/%d/%Y %H:%M:%S\")"
   ]
  },
  {
   "cell_type": "code",
   "execution_count": 15,
   "id": "274763b3",
   "metadata": {},
   "outputs": [],
   "source": [
    "# Prepare input data\n",
    "Mag = df_japan[\"Magnitude\"].values\n",
    "T = Mag*0\n",
    "for i,t in enumerate(df_japan[\"Date_Time\"]):\n",
    "    T[i] = (t-df_japan[\"Date_Time\"][0]).total_seconds()/60/60/24"
   ]
  },
  {
   "cell_type": "code",
   "execution_count": 18,
   "id": "17d8345d",
   "metadata": {},
   "outputs": [],
   "source": [
    "MagCut = 5.5 #cut off magnitude\n",
    "Tmax = T.max()"
   ]
  },
  {
   "cell_type": "code",
   "execution_count": 19,
   "id": "c64b35b6",
   "metadata": {},
   "outputs": [],
   "source": [
    "\n",
    "# initial values\n",
    "a,c,p,k,mu = 1.0, 0.1, 1.1, 0.1, 0.1\n",
    "param_initial = np.array([a,c,p,k,mu])"
   ]
  },
  {
   "cell_type": "code",
   "execution_count": 21,
   "id": "449f09f4",
   "metadata": {},
   "outputs": [],
   "source": [
    "# Fit\n",
    "log_param_initial = np.log(param_initial) #log-param\n",
    "args = (Tmax, MagCut,T, Mag)"
   ]
  },
  {
   "cell_type": "code",
   "execution_count": 147,
   "id": "b01fa2aa",
   "metadata": {},
   "outputs": [
    {
     "name": "stdout",
     "output_type": "stream",
     "text": [
      "Warning: Desired error not necessarily achieved due to precision loss.\n",
      "         Current function value: 4728.336468\n",
      "         Iterations: 24\n",
      "         Function evaluations: 96\n",
      "         Gradient evaluations: 85\n"
     ]
    }
   ],
   "source": [
    "\n",
    "param_fitted = optimize.fmin_bfgs( minusloglik, log_param_initial, fprime=gradminusloglik, args=(Tmax,MagCut,T,Mag),gtol=0.0001)"
   ]
  },
  {
   "cell_type": "code",
   "execution_count": 148,
   "id": "5f4cc91e",
   "metadata": {},
   "outputs": [
    {
     "name": "stdout",
     "output_type": "stream",
     "text": [
      "a,c,p,k,mu= [2.02936102 0.01781398 1.09279287 0.009344   0.05250797]\n"
     ]
    }
   ],
   "source": [
    "param_fitted = np.exp(log_param_fitted)\n",
    "print(\"a,c,p,k,mu=\",param_fitted)"
   ]
  },
  {
   "cell_type": "code",
   "execution_count": 149,
   "id": "00bd9c81",
   "metadata": {},
   "outputs": [],
   "source": [
    "# Conditional intensity λ with log-entries\n",
    "def λ(param,Tmax,Mc,Ti,Mi,T):\n",
    "    a,c,p,k,mu = np.exp(param)\n",
    "    return mu+((T>Ti)*k*np.exp(a*(Mi - Mc))/((T>Ti)*(T - Ti) + c)**p).sum()"
   ]
  },
  {
   "cell_type": "code",
   "execution_count": 150,
   "id": "5bf27975",
   "metadata": {},
   "outputs": [],
   "source": [
    "# P[ j-thearthquakes is an offspring of of i-th earthquake | H_{t_j} ]\n",
    "def P(param,Tmax,Mc,Ti,Mi):\n",
    "    a,c,p,k,mu = np.exp(param)\n",
    "    n = len(T)\n",
    "    P = np.zeros((n,n))\n",
    "    for i in range(0,n-1):\n",
    "        for j in range(0,n-1):\n",
    "            P[j,i] =  (Ti[j] > Ti[i])*k*np.exp(a*(Mi[i] - Mc))/((Ti[j]>Ti[i])*(Ti[j] - Ti[i]) + c)**p / λ(param,Tmax,Mc,Ti,Mi,Ti[j])\n",
    "    return P"
   ]
  },
  {
   "cell_type": "code",
   "execution_count": 151,
   "id": "fda1ca16",
   "metadata": {},
   "outputs": [],
   "source": [
    "P_mat = P(param_fitted,Tmax,MagCut,T,Mag)"
   ]
  },
  {
   "cell_type": "code",
   "execution_count": 152,
   "id": "2eb023d9",
   "metadata": {},
   "outputs": [
    {
     "data": {
      "text/plain": [
       "array([[0.00000000e+00, 0.00000000e+00, 0.00000000e+00, ...,\n",
       "        0.00000000e+00, 0.00000000e+00, 0.00000000e+00],\n",
       "       [1.86836576e-04, 0.00000000e+00, 0.00000000e+00, ...,\n",
       "        0.00000000e+00, 0.00000000e+00, 0.00000000e+00],\n",
       "       [4.65637547e-05, 2.65706437e-01, 0.00000000e+00, ...,\n",
       "        0.00000000e+00, 0.00000000e+00, 0.00000000e+00],\n",
       "       ...,\n",
       "       [4.88082193e-16, 1.00849864e-13, 1.01053271e-13, ...,\n",
       "        0.00000000e+00, 0.00000000e+00, 0.00000000e+00],\n",
       "       [8.27366487e-15, 1.70953007e-12, 1.71297175e-12, ...,\n",
       "        5.09674773e-06, 0.00000000e+00, 0.00000000e+00],\n",
       "       [0.00000000e+00, 0.00000000e+00, 0.00000000e+00, ...,\n",
       "        0.00000000e+00, 0.00000000e+00, 0.00000000e+00]])"
      ]
     },
     "execution_count": 152,
     "metadata": {},
     "output_type": "execute_result"
    }
   ],
   "source": [
    "P_mat"
   ]
  },
  {
   "cell_type": "code",
   "execution_count": 153,
   "id": "12812563",
   "metadata": {},
   "outputs": [],
   "source": [
    "P_vec = np.array([ P_mat[i].sum() for i in range(0,len(P_mat[1]))] )"
   ]
  },
  {
   "cell_type": "code",
   "execution_count": 154,
   "id": "3ecfc448",
   "metadata": {},
   "outputs": [
    {
     "data": {
      "text/plain": [
       "array([1.00000000e+00, 9.99813163e-01, 7.34247000e-01, ...,\n",
       "       6.33718441e-04, 1.08011931e-02, 1.00000000e+00])"
      ]
     },
     "execution_count": 154,
     "metadata": {},
     "output_type": "execute_result"
    }
   ],
   "source": [
    "1 - P_vec"
   ]
  },
  {
   "cell_type": "code",
   "execution_count": 232,
   "id": "af5e7bbe",
   "metadata": {},
   "outputs": [],
   "source": [
    "T_declust = T[np.random.rand(len(P_vec)) < 1 - P_vec]"
   ]
  },
  {
   "cell_type": "markdown",
   "id": "5f53005f",
   "metadata": {},
   "source": [
    "Theorem 1 (Cinlar, 1975). Let $\\Lambda(t)$, $t\\geq0$ be a positive-valued, continuous, nondecreasing function.   Then the random variables $\\left\\{T_i\\right\\}_{i=1}^\\infty$ are event times corresponding to a nonhomogeneous Poisson process with expectation function $\\Lambda(t)$ if and only if $\\left\\{\\Lambda(T_i)\\right\\}_{i=1}^\\infty$ are the event times corresponding to a homogeneous Poisson process with rate one."
   ]
  },
  {
   "cell_type": "code",
   "execution_count": 234,
   "id": "6e4858e0",
   "metadata": {},
   "outputs": [],
   "source": [
    "T_unitpoi_declust = [ Λ(param_fitted,Tmax,MagCut,T,Mag,T_declust[i]) for i in range(0,len(T_declust)-1) ]"
   ]
  },
  {
   "cell_type": "code",
   "execution_count": 235,
   "id": "de8046e2",
   "metadata": {},
   "outputs": [],
   "source": [
    "inter_T_unitpoi_declust = np.array([ T_unitpoi_declust[i+1] - T_unitpoi_declust[i] for i in range(0,len(T_unitpoi_declust)-1) ])"
   ]
  },
  {
   "cell_type": "code",
   "execution_count": 236,
   "id": "c5828aae",
   "metadata": {},
   "outputs": [
    {
     "data": {
      "image/png": "[encoded data removed]",
      "text/plain": [
       "<Figure size 432x288 with 1 Axes>"
      ]
     },
     "metadata": {},
     "output_type": "display_data"
    }
   ],
   "source": [
    "plt.hist( inter_T_unitpoi_declust,range=(0,500),bins=50,density=True)\n",
    "plt.plot( np.linspace(0,500,100), [np.exp(-i/np.mean(inter_T_unitpoi_declust))/np.mean(inter_T_unitpoi_declust) for i in np.linspace(0,500,100) ] )\n",
    "plt.show()"
   ]
  },
  {
   "cell_type": "code",
   "execution_count": 177,
   "id": "b92f4157",
   "metadata": {},
   "outputs": [],
   "source": [
    "from scipy import stats"
   ]
  },
  {
   "cell_type": "code",
   "execution_count": 198,
   "id": "e1e9357a",
   "metadata": {},
   "outputs": [
    {
     "data": {
      "text/plain": [
       "KstestResult(statistic=0.9426193472299227, pvalue=0.0)"
      ]
     },
     "execution_count": 198,
     "metadata": {},
     "output_type": "execute_result"
    }
   ],
   "source": [
    "stats.kstest(inter_T_unitpoi_declust,'expon')"
   ]
  },
  {
   "cell_type": "code",
   "execution_count": 211,
   "id": "b95f4884",
   "metadata": {},
   "outputs": [
    {
     "data": {
      "text/plain": [
       "KstestResult(statistic=1.0, pvalue=0.0)"
      ]
     },
     "execution_count": 211,
     "metadata": {},
     "output_type": "execute_result"
    }
   ],
   "source": [
    "stats.kstest(inter_T_unitpoi_declust,stats.expon(scale=1/np.mean(inter_T_unitpoi_declust)).cdf)"
   ]
  },
  {
   "cell_type": "code",
   "execution_count": 197,
   "id": "51068fcb",
   "metadata": {},
   "outputs": [
    {
     "data": {
      "text/plain": [
       "404"
      ]
     },
     "execution_count": 197,
     "metadata": {},
     "output_type": "execute_result"
    }
   ],
   "source": [
    "np.sum(inter_T_unitpoi_declust <= 500)"
   ]
  },
  {
   "cell_type": "code",
   "execution_count": 212,
   "id": "d00c2177",
   "metadata": {},
   "outputs": [
    {
     "data": {
      "text/plain": [
       "KstestResult(statistic=0.9999999739041194, pvalue=0.0)"
      ]
     },
     "execution_count": 212,
     "metadata": {},
     "output_type": "execute_result"
    }
   ],
   "source": [
    "stats.kstest( np.sort(inter_T_unitpoi_declust )[0:403],stats.expon(scale=1/np.mean(inter_T_unitpoi_declust[0:403])).cdf)"
   ]
  },
  {
   "cell_type": "code",
   "execution_count": 200,
   "id": "6f874a33",
   "metadata": {},
   "outputs": [
    {
     "data": {
      "text/plain": [
       "393"
      ]
     },
     "execution_count": 200,
     "metadata": {},
     "output_type": "execute_result"
    }
   ],
   "source": [
    "np.sum(inter_T_unitpoi_declust <= 300)"
   ]
  },
  {
   "cell_type": "code",
   "execution_count": 213,
   "id": "5c23a208",
   "metadata": {},
   "outputs": [
    {
     "data": {
      "text/plain": [
       "KstestResult(statistic=0.999999576528685, pvalue=0.0)"
      ]
     },
     "execution_count": 213,
     "metadata": {},
     "output_type": "execute_result"
    }
   ],
   "source": [
    "stats.kstest( np.sort(inter_T_unitpoi_declust )[0:392],stats.expon(scale=1/np.mean(inter_T_unitpoi_declust[0:392])).cdf)"
   ]
  },
  {
   "cell_type": "code",
   "execution_count": 214,
   "id": "1dfd7fcc",
   "metadata": {},
   "outputs": [
    {
     "data": {
      "text/plain": [
       "369"
      ]
     },
     "execution_count": 214,
     "metadata": {},
     "output_type": "execute_result"
    }
   ],
   "source": [
    "np.sum(inter_T_unitpoi_declust <= 200)"
   ]
  },
  {
   "cell_type": "code",
   "execution_count": 215,
   "id": "ff28bd4b",
   "metadata": {},
   "outputs": [
    {
     "data": {
      "text/plain": [
       "KstestResult(statistic=0.9999856821643183, pvalue=0.0)"
      ]
     },
     "execution_count": 215,
     "metadata": {},
     "output_type": "execute_result"
    }
   ],
   "source": [
    "stats.kstest( np.sort(inter_T_unitpoi_declust )[0:368],stats.expon(scale=1/np.mean(inter_T_unitpoi_declust[0:368])).cdf)"
   ]
  },
  {
   "cell_type": "code",
   "execution_count": 216,
   "id": "14546c59",
   "metadata": {},
   "outputs": [
    {
     "data": {
      "text/plain": [
       "340"
      ]
     },
     "execution_count": 216,
     "metadata": {},
     "output_type": "execute_result"
    }
   ],
   "source": [
    "np.sum(inter_T_unitpoi_declust <= 100)"
   ]
  },
  {
   "cell_type": "code",
   "execution_count": 217,
   "id": "918c4e8c",
   "metadata": {},
   "outputs": [
    {
     "data": {
      "text/plain": [
       "KstestResult(statistic=0.9998549933669963, pvalue=0.0)"
      ]
     },
     "execution_count": 217,
     "metadata": {},
     "output_type": "execute_result"
    }
   ],
   "source": [
    "stats.kstest( np.sort(inter_T_unitpoi_declust )[0:339],stats.expon(scale=1/np.mean(inter_T_unitpoi_declust[0:339])).cdf)"
   ]
  },
  {
   "cell_type": "code",
   "execution_count": 250,
   "id": "5faf582d",
   "metadata": {},
   "outputs": [],
   "source": [
    "def b(v):\n",
    "    return len(v)/np.log(v/min(v)).sum()"
   ]
  },
  {
   "cell_type": "code",
   "execution_count": 255,
   "id": "4ca7b39d",
   "metadata": {},
   "outputs": [
    {
     "data": {
      "image/png": "[encoded data removed]",
      "text/plain": [
       "<Figure size 432x288 with 1 Axes>"
      ]
     },
     "metadata": {},
     "output_type": "display_data"
    }
   ],
   "source": [
    "plt.hist( inter_T_unitpoi_declust,range=(0,500),bins=50,density=True)\n",
    "plt.plot( np.linspace(0,500,100), [stats.pareto.pdf(i,b(inter_T_unitpoi_declust)) for i in np.linspace(0,500,100) ] )\n",
    "plt.show()"
   ]
  },
  {
   "cell_type": "code",
   "execution_count": 256,
   "id": "915ae8fa",
   "metadata": {},
   "outputs": [
    {
     "data": {
      "text/plain": [
       "KstestResult(statistic=0.2272681180616627, pvalue=1.5256810033338736e-22)"
      ]
     },
     "execution_count": 256,
     "metadata": {},
     "output_type": "execute_result"
    }
   ],
   "source": [
    "stats.kstest(inter_T_unitpoi_declust,stats.pareto(b=b(inter_T_unitpoi_declust)).cdf)"
   ]
  },
  {
   "cell_type": "code",
   "execution_count": 257,
   "id": "32e2af09",
   "metadata": {},
   "outputs": [
    {
     "data": {
      "text/plain": [
       "KstestResult(statistic=0.2205838097595343, pvalue=3.0055581984155394e-21)"
      ]
     },
     "execution_count": 257,
     "metadata": {},
     "output_type": "execute_result"
    }
   ],
   "source": [
    "stats.kstest(inter_T_unitpoi_declust[0:403],stats.pareto(b=b(inter_T_unitpoi_declust[0:403])).cdf)"
   ]
  },
  {
   "cell_type": "code",
   "execution_count": 259,
   "id": "01eeff66",
   "metadata": {},
   "outputs": [
    {
     "data": {
      "text/plain": [
       "KstestResult(statistic=0.23862254424761042, pvalue=3.99425594706895e-20)"
      ]
     },
     "execution_count": 259,
     "metadata": {},
     "output_type": "execute_result"
    }
   ],
   "source": [
    "stats.kstest(inter_T_unitpoi_declust[0:392],stats.pareto(b=b(inter_T_unitpoi_declust[0:392])).cdf)"
   ]
  },
  {
   "cell_type": "code",
   "execution_count": 260,
   "id": "466af5c6",
   "metadata": {},
   "outputs": [
    {
     "data": {
      "text/plain": [
       "KstestResult(statistic=0.23982075244968304, pvalue=4.1262029939600523e-19)"
      ]
     },
     "execution_count": 260,
     "metadata": {},
     "output_type": "execute_result"
    }
   ],
   "source": [
    "stats.kstest(inter_T_unitpoi_declust[0:368],stats.pareto(b=b(inter_T_unitpoi_declust[0:368])).cdf)"
   ]
  },
  {
   "cell_type": "code",
   "execution_count": 261,
   "id": "20e1e769",
   "metadata": {},
   "outputs": [
    {
     "data": {
      "text/plain": [
       "KstestResult(statistic=0.243257550345932, pvalue=3.8064034931831985e-18)"
      ]
     },
     "execution_count": 261,
     "metadata": {},
     "output_type": "execute_result"
    }
   ],
   "source": [
    "stats.kstest(inter_T_unitpoi_declust[0:339],stats.pareto(b=b(inter_T_unitpoi_declust[0:339])).cdf)"
   ]
  }
 ],
 "metadata": {
  "kernelspec": {
   "display_name": "Python 3",
   "language": "python",
   "name": "python3"
  },
  "language_info": {
   "codemirror_mode": {
    "name": "ipython",
    "version": 3
   },
   "file_extension": ".py",
   "mimetype": "text/x-python",
   "name": "python",
   "nbconvert_exporter": "python",
   "pygments_lexer": "ipython3",
   "version": "3.8.5"
  }
 },
 "nbformat": 4,
 "nbformat_minor": 5
}
