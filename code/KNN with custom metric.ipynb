{
 "cells": [
  {
   "cell_type": "code",
   "execution_count": null,
   "metadata": {},
   "outputs": [],
   "source": [
    "from datetime import datetime\n",
    "import pandas as pd\n",
    "import numpy as np\n",
    "import matplotlib.pyplot as plt"
   ]
  },
  {
   "cell_type": "code",
   "execution_count": 2,
   "metadata": {},
   "outputs": [],
   "source": [
    "sismos = pd.read_csv(\".//SSNMX_catalogo_20170901_20210510_lat12d85_18d66_lon-97d26_-88d69.csv\",  skiprows=4)\n",
    "sismos= sismos.dropna()"
   ]
  },
  {
   "cell_type": "code",
   "execution_count": 3,
   "metadata": {},
   "outputs": [
    {
     "data": {
      "text/html": [
       "<div>\n",
       "<style scoped>\n",
       "    .dataframe tbody tr th:only-of-type {\n",
       "        vertical-align: middle;\n",
       "    }\n",
       "\n",
       "    .dataframe tbody tr th {\n",
       "        vertical-align: top;\n",
       "    }\n",
       "\n",
       "    .dataframe thead th {\n",
       "        text-align: right;\n",
       "    }\n",
       "</style>\n",
       "<table border=\"1\" class=\"dataframe\">\n",
       "  <thead>\n",
       "    <tr style=\"text-align: right;\">\n",
       "      <th></th>\n",
       "      <th>Fecha</th>\n",
       "      <th>Hora</th>\n",
       "      <th>Magnitud</th>\n",
       "      <th>Latitud</th>\n",
       "      <th>Longitud</th>\n",
       "      <th>Profundidad</th>\n",
       "      <th>Referencia de localizacion</th>\n",
       "      <th>Fecha UTC</th>\n",
       "      <th>Hora UTC</th>\n",
       "      <th>Estatus</th>\n",
       "      <th>timestamp</th>\n",
       "      <th>date_seconds</th>\n",
       "    </tr>\n",
       "  </thead>\n",
       "  <tbody>\n",
       "    <tr>\n",
       "      <th>0</th>\n",
       "      <td>2017-09-01</td>\n",
       "      <td>01:26:16</td>\n",
       "      <td>3.4</td>\n",
       "      <td>15.9832</td>\n",
       "      <td>-96.9505</td>\n",
       "      <td>25.8</td>\n",
       "      <td>18 km al NORESTE de PUERTO ESCONDIDO, OAX</td>\n",
       "      <td>2017-09-01</td>\n",
       "      <td>06:26:16</td>\n",
       "      <td>revisado</td>\n",
       "      <td>2017-09-01 01:26:16</td>\n",
       "      <td>0.0</td>\n",
       "    </tr>\n",
       "    <tr>\n",
       "      <th>1</th>\n",
       "      <td>2017-09-01</td>\n",
       "      <td>01:29:47</td>\n",
       "      <td>3.5</td>\n",
       "      <td>16.6938</td>\n",
       "      <td>-95.1257</td>\n",
       "      <td>94.8</td>\n",
       "      <td>15 km al NORTE de CD IXTEPEC, OAX</td>\n",
       "      <td>2017-09-01</td>\n",
       "      <td>06:29:47</td>\n",
       "      <td>revisado</td>\n",
       "      <td>2017-09-01 01:29:47</td>\n",
       "      <td>211.0</td>\n",
       "    </tr>\n",
       "    <tr>\n",
       "      <th>2</th>\n",
       "      <td>2017-09-01</td>\n",
       "      <td>02:10:55</td>\n",
       "      <td>3.8</td>\n",
       "      <td>15.5425</td>\n",
       "      <td>-92.4787</td>\n",
       "      <td>187.6</td>\n",
       "      <td>32 km al NOROESTE de MOTOZINTLA, CHIS</td>\n",
       "      <td>2017-09-01</td>\n",
       "      <td>07:10:55</td>\n",
       "      <td>revisado</td>\n",
       "      <td>2017-09-01 02:10:55</td>\n",
       "      <td>2679.0</td>\n",
       "    </tr>\n",
       "    <tr>\n",
       "      <th>3</th>\n",
       "      <td>2017-09-01</td>\n",
       "      <td>02:15:28</td>\n",
       "      <td>3.5</td>\n",
       "      <td>16.0508</td>\n",
       "      <td>-97.1588</td>\n",
       "      <td>26.3</td>\n",
       "      <td>23 km al NOROESTE de PUERTO ESCONDIDO, OAX</td>\n",
       "      <td>2017-09-01</td>\n",
       "      <td>07:15:28</td>\n",
       "      <td>revisado</td>\n",
       "      <td>2017-09-01 02:15:28</td>\n",
       "      <td>2952.0</td>\n",
       "    </tr>\n",
       "    <tr>\n",
       "      <th>4</th>\n",
       "      <td>2017-09-01</td>\n",
       "      <td>02:24:18</td>\n",
       "      <td>3.6</td>\n",
       "      <td>17.1730</td>\n",
       "      <td>-94.9790</td>\n",
       "      <td>121.0</td>\n",
       "      <td>34 km al NORTE de MATIAS ROMERO, OAX</td>\n",
       "      <td>2017-09-01</td>\n",
       "      <td>07:24:18</td>\n",
       "      <td>revisado</td>\n",
       "      <td>2017-09-01 02:24:18</td>\n",
       "      <td>3482.0</td>\n",
       "    </tr>\n",
       "  </tbody>\n",
       "</table>\n",
       "</div>"
      ],
      "text/plain": [
       "        Fecha      Hora  Magnitud  Latitud  Longitud  Profundidad  \\\n",
       "0  2017-09-01  01:26:16       3.4  15.9832  -96.9505         25.8   \n",
       "1  2017-09-01  01:29:47       3.5  16.6938  -95.1257         94.8   \n",
       "2  2017-09-01  02:10:55       3.8  15.5425  -92.4787        187.6   \n",
       "3  2017-09-01  02:15:28       3.5  16.0508  -97.1588         26.3   \n",
       "4  2017-09-01  02:24:18       3.6  17.1730  -94.9790        121.0   \n",
       "\n",
       "                   Referencia de localizacion   Fecha UTC  Hora UTC   Estatus  \\\n",
       "0   18 km al NORESTE de PUERTO ESCONDIDO, OAX  2017-09-01  06:26:16  revisado   \n",
       "1           15 km al NORTE de CD IXTEPEC, OAX  2017-09-01  06:29:47  revisado   \n",
       "2       32 km al NOROESTE de MOTOZINTLA, CHIS  2017-09-01  07:10:55  revisado   \n",
       "3  23 km al NOROESTE de PUERTO ESCONDIDO, OAX  2017-09-01  07:15:28  revisado   \n",
       "4        34 km al NORTE de MATIAS ROMERO, OAX  2017-09-01  07:24:18  revisado   \n",
       "\n",
       "            timestamp  date_seconds  \n",
       "0 2017-09-01 01:26:16           0.0  \n",
       "1 2017-09-01 01:29:47         211.0  \n",
       "2 2017-09-01 02:10:55        2679.0  \n",
       "3 2017-09-01 02:15:28        2952.0  \n",
       "4 2017-09-01 02:24:18        3482.0  "
      ]
     },
     "execution_count": 3,
     "metadata": {},
     "output_type": "execute_result"
    }
   ],
   "source": [
    "sismos[\"timestamp\"] = sismos['Fecha'] + ' ' +sismos['Hora']\n",
    "sismos[\"timestamp\"] = sismos[\"timestamp\"].apply(lambda x: datetime.strptime(x,'%Y-%m-%d %H:%M:%S'))\n",
    "sismos.drop(['Fecha UTC','Hora UTC', 'Estatus'], 1)\n",
    "sismos[\"date_seconds\"] = sismos[\"timestamp\"].apply(lambda d: (d - sismos[\"timestamp\"][0]).total_seconds())\n",
    "sismos.head()"
   ]
  },
  {
   "cell_type": "code",
   "execution_count": 4,
   "metadata": {},
   "outputs": [],
   "source": [
    "def mcvalue(m, mbin):\n",
    "    density = np.histogram(m, range = (min(m) - 1, max(m) + 1), density=True)\n",
    "    return density[1][np.argmax(density[0])]"
   ]
  },
  {
   "cell_type": "code",
   "execution_count": 5,
   "metadata": {},
   "outputs": [],
   "source": [
    "m = sismos['Magnitud'].values\n",
    "m = m[~np.isnan(m)]\n",
    "mbin = 0.1 \n",
    "Mc = mcvalue(m, mbin)\n",
    "# Aki ML estimates\n",
    "B = np.log10(np.e)/(m[m>Mc-mbin/2].mean() - (Mc-mbin/2))\n",
    "#d = len(m[m>0])\n",
    "d = 2*B\n",
    "c = 1\n",
    "\n",
    "#Arbitrary c. (We don't know what it is)\n",
    "#We're also not entirely sure about the d. We need to find more sources.\n",
    "#dist_matrix=dist_quakes_sparse(sismos, B, 1, d)\n",
    "#plt.imshow(dist_matrix[-1000:,:])"
   ]
  },
  {
   "cell_type": "code",
   "execution_count": 24,
   "metadata": {},
   "outputs": [],
   "source": [
    "def dist_quakes(sismo_i, sismo_j, **kwargs):\n",
    "    \n",
    "    c = 1\n",
    "    B = 0.6160988624731996\n",
    "    d = 2*B\n",
    "    #tau = sismo_j[10] - sismo_i[10]\n",
    "    #tau = tau.total_seconds() # The time scale will be in seconds\n",
    "    tau = sismo_j[4] - sismo_i[4]\n",
    "    tau = np.abs(tau)\n",
    "    lat1 = sismo_i[1]\n",
    "    lat2 = sismo_j[1]\n",
    "    lon1 =  sismo_i[2]\n",
    "    lon2 = sismo_j[2]\n",
    "    \n",
    "    rad = np.pi/180\n",
    "    dlat= lat2-lat1\n",
    "    dlon=lon2-lon1\n",
    "    R=6372.795477598\n",
    "    a=(np.sin(rad*dlat/2))**2 + np.cos(rad*lat1)*np.cos(rad*lat2)*(np.sin(rad*dlon/2))**2\n",
    "    distancia=2*R*np.arcsin(np.sqrt(a))\n",
    "    \n",
    "    r = np.sqrt(distancia**2 + (sismo_j[3]-sismo_i[3])**2 ) \n",
    "    delta_m = sismo_j[0] - sismo_i[0] \n",
    "    return kwargs[\"metric_params\"][\"c\"]*tau*(r**kwargs[\"metric_params\"][\"d\"]) *(10**(-kwargs[\"metric_params\"][\"B\"] * delta_m))\n",
    "    #return c*tau*(r**d) *(10**(-B*delta_m))\n",
    "\n"
   ]
  },
  {
   "cell_type": "code",
   "execution_count": 25,
   "metadata": {},
   "outputs": [
    {
     "data": {
      "text/plain": [
       "array([  3.4   ,  15.9832, -96.9505,  25.8   ,   0.    ])"
      ]
     },
     "execution_count": 25,
     "metadata": {},
     "output_type": "execute_result"
    }
   ],
   "source": [
    "test = sismos.drop(sismos.columns.difference(['Magnitud', 'Latitud', 'Longitud','Profundidad','date_seconds']), \n",
    "                   1, inplace=False)\n",
    "test = test.to_numpy()"
   ]
  },
  {
   "cell_type": "code",
   "execution_count": 17,
   "metadata": {},
   "outputs": [
    {
     "data": {
      "text/plain": [
       "0.0"
      ]
     },
     "execution_count": 17,
     "metadata": {},
     "output_type": "execute_result"
    }
   ],
   "source": [
    "test[0][11]"
   ]
  },
  {
   "cell_type": "code",
   "execution_count": 26,
   "metadata": {},
   "outputs": [
    {
     "data": {
      "text/plain": [
       "6979382.88476807"
      ]
     },
     "execution_count": 26,
     "metadata": {},
     "output_type": "execute_result"
    }
   ],
   "source": [
    "dist_quakes(test[6], test[16])"
   ]
  },
  {
   "cell_type": "markdown",
   "metadata": {},
   "source": [
    "## KNN NEAREST "
   ]
  },
  {
   "cell_type": "code",
   "execution_count": 8,
   "metadata": {},
   "outputs": [],
   "source": [
    "import sklearn\n",
    "from sklearn.neighbors import NearestNeighbors\n"
   ]
  },
  {
   "cell_type": "code",
   "execution_count": 27,
   "metadata": {},
   "outputs": [],
   "source": [
    "nbrs = NearestNeighbors(n_neighbors=10, algorithm='ball_tree', metric = dist_quakes, \n",
    "                        metric_params={\"c\": c, \"d\": d, \"B\": B})"
   ]
  },
  {
   "cell_type": "code",
   "execution_count": 28,
   "metadata": {},
   "outputs": [
    {
     "data": {
      "text/plain": [
       "NearestNeighbors(algorithm='ball_tree',\n",
       "                 metric=<function dist_quakes at 0x0000022F4D414EE8>,\n",
       "                 n_neighbors=10)"
      ]
     },
     "execution_count": 28,
     "metadata": {},
     "output_type": "execute_result"
    }
   ],
   "source": [
    "nbrs.fit(test)"
   ]
  },
  {
   "cell_type": "code",
   "execution_count": null,
   "metadata": {},
   "outputs": [],
   "source": [
    "nbrs.kneighbors(test)"
   ]
  }
 ],
 "metadata": {
  "kernelspec": {
   "display_name": "Python 3",
   "language": "python",
   "name": "python3"
  },
  "language_info": {
   "codemirror_mode": {
    "name": "ipython",
    "version": 3
   },
   "file_extension": ".py",
   "mimetype": "text/x-python",
   "name": "python",
   "nbconvert_exporter": "python",
   "pygments_lexer": "ipython3",
   "version": "3.7.6"
  }
 },
 "nbformat": 4,
 "nbformat_minor": 4
}
