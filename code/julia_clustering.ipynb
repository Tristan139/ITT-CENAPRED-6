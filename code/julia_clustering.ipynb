{
 "cells": [
  {
   "cell_type": "code",
   "execution_count": 11,
   "metadata": {
    "scrolled": true
   },
   "outputs": [
    {
     "name": "stderr",
     "output_type": "stream",
     "text": [
      "\u001b[32m\u001b[1m  Resolving\u001b[22m\u001b[39m package versions...\n",
      "\u001b[32m\u001b[1m  Installed\u001b[22m\u001b[39m CSV ─ v0.8.4\n",
      "\u001b[32m\u001b[1m   Updating\u001b[22m\u001b[39m `~/.julia/environments/v1.4/Project.toml`\n",
      " \u001b[90m [336ed68f]\u001b[39m\u001b[92m + CSV v0.8.4\u001b[39m\n",
      "\u001b[32m\u001b[1m   Updating\u001b[22m\u001b[39m `~/.julia/environments/v1.4/Manifest.toml`\n",
      " \u001b[90m [336ed68f]\u001b[39m\u001b[92m + CSV v0.8.4\u001b[39m\n"
     ]
    }
   ],
   "source": [
    "using Pkg\n",
    "Pkg.add([\"Clustering\", \"StatsPlots\", \"DataFrames\", \"CSV\"])\n"
   ]
  },
  {
   "cell_type": "code",
   "execution_count": 136,
   "metadata": {},
   "outputs": [],
   "source": [
    "using Distributed, Random, Clustering, StatsPlots, DataFrames, LinearAlgebra\n",
    "@everywhere using CSV, SharedArrays\n",
    "\n",
    "#The same as the Python one, uses arbitrary precision\n",
    "@everywhere function dist_quakes(sismo_i, sismo_j, c, B)\n",
    " tau = abs(sismo_j[5] - sismo_i[5])\n",
    " lat1 = sismo_i[2]\n",
    " lat2 = sismo_j[2]\n",
    " lon1 =  sismo_i[3]\n",
    " lon2 = sismo_j[3]\n",
    "\n",
    " rad = pi/180\n",
    " dlat = lat2-lat1\n",
    " dlon = lon2-lon1\n",
    " R = 6372.795477598\n",
    " a = (sin(rad*dlat/2))^2 + cos(rad*lat1)*cos(rad*lat2)*(sin(rad*dlon/2))^2\n",
    " distancia = 2*R*asin(sqrt(a))\n",
    "\n",
    " r = sqrt(distancia^2 + (sismo_j[4]-sismo_i[4])^2 )\n",
    " delta_m = convert(BigFloat, sismo_j[1] - sismo_i[1])\n",
    " return c*tau*(r^(2*B) )* (10^(-B * delta_m))\n",
    "end\n",
    "\n",
    "\n",
    "traindf = CSV.read(\"train.csv\", DataFrame)\n",
    "#To do parallel processing\n",
    "train = SharedArray(Matrix(train))\n",
    "\n",
    "#Only the upper triangular part will be filled\n",
    "distances = zeros(BigFloat, 6000, 6000)\n",
    "@sync @distributed for i = 1:6000\n",
    "  for j = (i+1):6000\n",
    "    distances[i,j] = dist_quakes(train[i,:], train[j,:], 1, 0.6160988624731996)\n",
    "  end\n",
    "end\n",
    "\n",
    "distances = LinearAlgebra.Symmetric(distances, :U)\n",
    "distances = Matrix{Float64}(distances)\n",
    "CSV.write(\"distances.csv\", DataFrame(distances, :auto))\n",
    "\n",
    "### Clustering\n",
    "\n",
    "Random.seed!(3)\n",
    "\n",
    "tree = hclust(distances, linkage=:ward)\n",
    "plot(tree, branchorder=:optimal)\n",
    "savefig(\"dendogram2_6000.pdf\")\n",
    "#Too many leaves\n",
    "\n",
    "tree_1000 = hclust(distances[1:1000, 1:1000], linkage=:ward)\n",
    "plot(tree_1000, branchorder=:optimal)\n",
    "savefig(\"dendogram2_1000.pdf\")\n",
    "#Still too many\n",
    "\n",
    "tree_100 = hclust(distances[1:100, 1:100], linkage=:ward)\n",
    "plot(tree_100, branchorder=:optimal)\n",
    "savefig(\"dendogram2_100.pdf\")\n",
    "\n",
    "# perhaps 3 clusters?\n"
   ]
  },
  {
   "cell_type": "code",
   "execution_count": 170,
   "metadata": {},
   "outputs": [
    {
     "data": {
      "text/html": [
       "<table class=\"data-frame\"><thead><tr><th></th><th>Column1</th><th>0</th><th>1</th><th>2</th><th>3</th><th>4</th><th>Cluster</th></tr><tr><th></th><th>Int64</th><th>Float64</th><th>Float64</th><th>Float64</th><th>Float64</th><th>Float64</th><th>Int64</th></tr></thead><tbody><p>6,000 rows × 7 columns</p><tr><th>1</th><td>0</td><td>3.4</td><td>15.9832</td><td>-96.9505</td><td>25.8</td><td>0.0</td><td>1</td></tr><tr><th>2</th><td>1</td><td>3.5</td><td>16.6938</td><td>-95.1257</td><td>94.8</td><td>211.0</td><td>2</td></tr><tr><th>3</th><td>2</td><td>3.8</td><td>15.5425</td><td>-92.4787</td><td>187.6</td><td>2679.0</td><td>3</td></tr><tr><th>4</th><td>3</td><td>3.5</td><td>16.0508</td><td>-97.1588</td><td>26.3</td><td>2952.0</td><td>4</td></tr><tr><th>5</th><td>4</td><td>3.6</td><td>17.173</td><td>-94.979</td><td>121.0</td><td>3482.0</td><td>5</td></tr><tr><th>6</th><td>5</td><td>4.3</td><td>15.782</td><td>-94.9405</td><td>16.1</td><td>7140.0</td><td>2</td></tr><tr><th>7</th><td>6</td><td>3.6</td><td>17.3505</td><td>-94.5152</td><td>136.2</td><td>8449.0</td><td>6</td></tr><tr><th>8</th><td>7</td><td>3.7</td><td>16.3592</td><td>-93.7075</td><td>64.4</td><td>8628.0</td><td>7</td></tr><tr><th>9</th><td>8</td><td>3.6</td><td>16.2487</td><td>-95.7268</td><td>47.4</td><td>9368.0</td><td>2</td></tr><tr><th>10</th><td>9</td><td>4.0</td><td>15.2395</td><td>-96.6972</td><td>16.0</td><td>9565.0</td><td>8</td></tr><tr><th>11</th><td>10</td><td>3.6</td><td>15.7627</td><td>-95.5065</td><td>41.5</td><td>11426.0</td><td>9</td></tr><tr><th>12</th><td>11</td><td>3.5</td><td>15.729</td><td>-95.4693</td><td>37.9</td><td>16193.0</td><td>4</td></tr><tr><th>13</th><td>12</td><td>3.5</td><td>16.7268</td><td>-93.7705</td><td>148.9</td><td>17023.0</td><td>3</td></tr><tr><th>14</th><td>13</td><td>4.4</td><td>15.5892</td><td>-93.3158</td><td>100.3</td><td>26256.0</td><td>10</td></tr><tr><th>15</th><td>14</td><td>3.5</td><td>15.6448</td><td>-97.1558</td><td>5.0</td><td>27668.0</td><td>11</td></tr><tr><th>16</th><td>15</td><td>3.8</td><td>15.4118</td><td>-92.0867</td><td>176.6</td><td>27860.0</td><td>12</td></tr><tr><th>17</th><td>16</td><td>3.8</td><td>17.1762</td><td>-95.5993</td><td>104.0</td><td>33572.0</td><td>13</td></tr><tr><th>18</th><td>17</td><td>3.5</td><td>15.5083</td><td>-92.9417</td><td>93.0</td><td>41242.0</td><td>14</td></tr><tr><th>19</th><td>18</td><td>3.4</td><td>17.4882</td><td>-94.7602</td><td>124.5</td><td>51897.0</td><td>15</td></tr><tr><th>20</th><td>19</td><td>3.4</td><td>15.8245</td><td>-94.3948</td><td>63.7</td><td>54912.0</td><td>6</td></tr><tr><th>21</th><td>20</td><td>3.6</td><td>16.0108</td><td>-96.1248</td><td>75.8</td><td>56983.0</td><td>16</td></tr><tr><th>22</th><td>21</td><td>4.0</td><td>15.1607</td><td>-95.2662</td><td>24.8</td><td>67194.0</td><td>17</td></tr><tr><th>23</th><td>22</td><td>3.9</td><td>17.4532</td><td>-94.2973</td><td>171.5</td><td>68564.0</td><td>8</td></tr><tr><th>24</th><td>23</td><td>3.7</td><td>14.515</td><td>-93.1547</td><td>50.0</td><td>79215.0</td><td>18</td></tr><tr><th>25</th><td>24</td><td>3.9</td><td>18.2403</td><td>-94.586</td><td>37.6</td><td>86675.0</td><td>19</td></tr><tr><th>26</th><td>25</td><td>3.5</td><td>15.0235</td><td>-92.9062</td><td>93.7</td><td>90697.0</td><td>17</td></tr><tr><th>27</th><td>26</td><td>3.9</td><td>16.6765</td><td>-95.0468</td><td>90.9</td><td>94088.0</td><td>20</td></tr><tr><th>28</th><td>27</td><td>3.7</td><td>16.4922</td><td>-96.3337</td><td>60.3</td><td>95895.0</td><td>13</td></tr><tr><th>29</th><td>28</td><td>4.1</td><td>14.834</td><td>-92.5097</td><td>105.8</td><td>95927.0</td><td>21</td></tr><tr><th>30</th><td>29</td><td>3.4</td><td>16.9912</td><td>-94.2237</td><td>127.0</td><td>102148.0</td><td>8</td></tr><tr><th>&vellip;</th><td>&vellip;</td><td>&vellip;</td><td>&vellip;</td><td>&vellip;</td><td>&vellip;</td><td>&vellip;</td><td>&vellip;</td></tr></tbody></table>"
      ],
      "text/latex": [
       "\\begin{tabular}{r|ccccccc}\n",
       "\t& Column1 & 0 & 1 & 2 & 3 & 4 & Cluster\\\\\n",
       "\t\\hline\n",
       "\t& Int64 & Float64 & Float64 & Float64 & Float64 & Float64 & Int64\\\\\n",
       "\t\\hline\n",
       "\t1 & 0 & 3.4 & 15.9832 & -96.9505 & 25.8 & 0.0 & 1 \\\\\n",
       "\t2 & 1 & 3.5 & 16.6938 & -95.1257 & 94.8 & 211.0 & 2 \\\\\n",
       "\t3 & 2 & 3.8 & 15.5425 & -92.4787 & 187.6 & 2679.0 & 3 \\\\\n",
       "\t4 & 3 & 3.5 & 16.0508 & -97.1588 & 26.3 & 2952.0 & 4 \\\\\n",
       "\t5 & 4 & 3.6 & 17.173 & -94.979 & 121.0 & 3482.0 & 5 \\\\\n",
       "\t6 & 5 & 4.3 & 15.782 & -94.9405 & 16.1 & 7140.0 & 2 \\\\\n",
       "\t7 & 6 & 3.6 & 17.3505 & -94.5152 & 136.2 & 8449.0 & 6 \\\\\n",
       "\t8 & 7 & 3.7 & 16.3592 & -93.7075 & 64.4 & 8628.0 & 7 \\\\\n",
       "\t9 & 8 & 3.6 & 16.2487 & -95.7268 & 47.4 & 9368.0 & 2 \\\\\n",
       "\t10 & 9 & 4.0 & 15.2395 & -96.6972 & 16.0 & 9565.0 & 8 \\\\\n",
       "\t11 & 10 & 3.6 & 15.7627 & -95.5065 & 41.5 & 11426.0 & 9 \\\\\n",
       "\t12 & 11 & 3.5 & 15.729 & -95.4693 & 37.9 & 16193.0 & 4 \\\\\n",
       "\t13 & 12 & 3.5 & 16.7268 & -93.7705 & 148.9 & 17023.0 & 3 \\\\\n",
       "\t14 & 13 & 4.4 & 15.5892 & -93.3158 & 100.3 & 26256.0 & 10 \\\\\n",
       "\t15 & 14 & 3.5 & 15.6448 & -97.1558 & 5.0 & 27668.0 & 11 \\\\\n",
       "\t16 & 15 & 3.8 & 15.4118 & -92.0867 & 176.6 & 27860.0 & 12 \\\\\n",
       "\t17 & 16 & 3.8 & 17.1762 & -95.5993 & 104.0 & 33572.0 & 13 \\\\\n",
       "\t18 & 17 & 3.5 & 15.5083 & -92.9417 & 93.0 & 41242.0 & 14 \\\\\n",
       "\t19 & 18 & 3.4 & 17.4882 & -94.7602 & 124.5 & 51897.0 & 15 \\\\\n",
       "\t20 & 19 & 3.4 & 15.8245 & -94.3948 & 63.7 & 54912.0 & 6 \\\\\n",
       "\t21 & 20 & 3.6 & 16.0108 & -96.1248 & 75.8 & 56983.0 & 16 \\\\\n",
       "\t22 & 21 & 4.0 & 15.1607 & -95.2662 & 24.8 & 67194.0 & 17 \\\\\n",
       "\t23 & 22 & 3.9 & 17.4532 & -94.2973 & 171.5 & 68564.0 & 8 \\\\\n",
       "\t24 & 23 & 3.7 & 14.515 & -93.1547 & 50.0 & 79215.0 & 18 \\\\\n",
       "\t25 & 24 & 3.9 & 18.2403 & -94.586 & 37.6 & 86675.0 & 19 \\\\\n",
       "\t26 & 25 & 3.5 & 15.0235 & -92.9062 & 93.7 & 90697.0 & 17 \\\\\n",
       "\t27 & 26 & 3.9 & 16.6765 & -95.0468 & 90.9 & 94088.0 & 20 \\\\\n",
       "\t28 & 27 & 3.7 & 16.4922 & -96.3337 & 60.3 & 95895.0 & 13 \\\\\n",
       "\t29 & 28 & 4.1 & 14.834 & -92.5097 & 105.8 & 95927.0 & 21 \\\\\n",
       "\t30 & 29 & 3.4 & 16.9912 & -94.2237 & 127.0 & 102148.0 & 8 \\\\\n",
       "\t$\\dots$ & $\\dots$ & $\\dots$ & $\\dots$ & $\\dots$ & $\\dots$ & $\\dots$ & $\\dots$ \\\\\n",
       "\\end{tabular}\n"
      ],
      "text/plain": [
       "\u001b[1m6000×7 DataFrame\u001b[0m\n",
       "\u001b[1m  Row \u001b[0m│\u001b[1m Column1 \u001b[0m\u001b[1m 0       \u001b[0m\u001b[1m 1       \u001b[0m\u001b[1m 2        \u001b[0m\u001b[1m 3       \u001b[0m\u001b[1m 4             \u001b[0m\u001b[1m Cluster \u001b[0m\n",
       "\u001b[1m      \u001b[0m│\u001b[90m Int64   \u001b[0m\u001b[90m Float64 \u001b[0m\u001b[90m Float64 \u001b[0m\u001b[90m Float64  \u001b[0m\u001b[90m Float64 \u001b[0m\u001b[90m Float64       \u001b[0m\u001b[90m Int64   \u001b[0m\n",
       "──────┼──────────────────────────────────────────────────────────────────────\n",
       "    1 │       0      3.4  15.9832  -96.9505     25.8      0.0              1\n",
       "    2 │       1      3.5  16.6938  -95.1257     94.8    211.0              2\n",
       "    3 │       2      3.8  15.5425  -92.4787    187.6   2679.0              3\n",
       "    4 │       3      3.5  16.0508  -97.1588     26.3   2952.0              4\n",
       "    5 │       4      3.6  17.173   -94.979     121.0   3482.0              5\n",
       "    6 │       5      4.3  15.782   -94.9405     16.1   7140.0              2\n",
       "    7 │       6      3.6  17.3505  -94.5152    136.2   8449.0              6\n",
       "    8 │       7      3.7  16.3592  -93.7075     64.4   8628.0              7\n",
       "    9 │       8      3.6  16.2487  -95.7268     47.4   9368.0              2\n",
       "   10 │       9      4.0  15.2395  -96.6972     16.0   9565.0              8\n",
       "   11 │      10      3.6  15.7627  -95.5065     41.5  11426.0              9\n",
       "  ⋮   │    ⋮        ⋮        ⋮        ⋮         ⋮           ⋮           ⋮\n",
       " 5991 │    5990      3.7  15.0077  -94.2713     20.0      3.20919e6       26\n",
       " 5992 │    5991      3.7  15.8622  -95.1537     40.0      3.21062e6        9\n",
       " 5993 │    5992      3.8  15.0528  -94.246       4.5      3.21109e6        7\n",
       " 5994 │    5993      3.4  16.476   -95.279      85.5      3.21186e6        6\n",
       " 5995 │    5994      3.6  16.3283  -95.204      64.8      3.21191e6        5\n",
       " 5996 │    5995      3.6  16.44    -95.1557     21.8      3.21227e6       30\n",
       " 5997 │    5996      4.0  16.4262  -95.1085     62.6      3.21273e6       34\n",
       " 5998 │    5997      3.7  16.3955  -95.0003     56.3      3.21322e6        4\n",
       " 5999 │    5998      3.9  15.384   -94.645      17.5      3.21389e6        2\n",
       " 6000 │    5999      3.6  15.0248  -93.5803     16.0      3.21406e6        1\n",
       "\u001b[36m                                                            5979 rows omitted\u001b[0m"
      ]
     },
     "execution_count": 170,
     "metadata": {},
     "output_type": "execute_result"
    }
   ],
   "source": [
    "clust = cutree(tree, h=50)\n",
    "\n",
    "df6000 = DataFrame(reshape(clust, 6000, 1), :auto)\n",
    "\n",
    "ttrain = traindf[1:6000, :]\n",
    "\n",
    "ttrain[!, \"Cluster\"] = df6000[!, \"x1\"]\n",
    "\n",
    "ttrain"
   ]
  },
  {
   "cell_type": "code",
   "execution_count": 173,
   "metadata": {},
   "outputs": [
    {
     "data": {
      "text/plain": [
       "\"clust6000.csv\""
      ]
     },
     "execution_count": 173,
     "metadata": {},
     "output_type": "execute_result"
    }
   ],
   "source": [
    "CSV.write(\"clust6000.csv\", ttrain, header=true)"
   ]
  }
 ],
 "metadata": {
  "kernelspec": {
   "display_name": "Julia 1.4.1",
   "language": "julia",
   "name": "julia-1.4"
  },
  "language_info": {
   "file_extension": ".jl",
   "mimetype": "application/julia",
   "name": "julia",
   "version": "1.4.1"
  }
 },
 "nbformat": 4,
 "nbformat_minor": 4
}
