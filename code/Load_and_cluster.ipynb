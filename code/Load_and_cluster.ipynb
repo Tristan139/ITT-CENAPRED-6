{
 "cells": [
  {
   "cell_type": "code",
   "execution_count": 1,
   "metadata": {},
   "outputs": [
    {
     "name": "stderr",
     "output_type": "stream",
     "text": [
      "Matplotlib is building the font cache; this may take a moment.\n"
     ]
    }
   ],
   "source": [
    "import numpy as np\n",
    "import pandas as pd\n",
    "import matplotlib\n",
    "import matplotlib.pyplot as plt\n",
    "from matplotlib import cm\n",
    "import cartopy.crs as ccrs\n",
    "import cartopy.feature as cfeature\n",
    "from cartopy.mpl.ticker import LongitudeFormatter, LatitudeFormatter"
   ]
  },
  {
   "cell_type": "code",
   "execution_count": 8,
   "metadata": {},
   "outputs": [
    {
     "name": "stdout",
     "output_type": "stream",
     "text": [
      "            Fecha      Hora  Magnitud  Latitud  Longitud  Profundidad  \\\n",
      "0      2017-09-01  01:26:16       3.4  15.9832  -96.9505         25.8   \n",
      "1      2017-09-01  01:29:47       3.5  16.6938  -95.1257         94.8   \n",
      "2      2017-09-01  02:10:55       3.8  15.5425  -92.4787        187.6   \n",
      "3      2017-09-01  02:15:28       3.5  16.0508  -97.1588         26.3   \n",
      "4      2017-09-01  02:24:18       3.6  17.1730  -94.9790        121.0   \n",
      "...           ...       ...       ...      ...       ...          ...   \n",
      "54557  2021-05-10  02:10:19       3.8  15.9500  -95.6600         54.0   \n",
      "54558  2021-05-10  02:15:51       3.9  17.4100  -94.8400        144.0   \n",
      "54559  2021-05-10  03:35:19       3.9  14.9200  -94.0200         14.0   \n",
      "54560  2021-05-10  05:13:42       4.5  14.0000  -92.1500         43.0   \n",
      "54561  2021-05-10  08:41:23       4.0  16.5000  -95.3100         86.0   \n",
      "\n",
      "                       Referencia de localizacion   Fecha UTC  Hora UTC  \\\n",
      "0       18 km al NORESTE de PUERTO ESCONDIDO, OAX  2017-09-01  06:26:16   \n",
      "1               15 km al NORTE de CD IXTEPEC, OAX  2017-09-01  06:29:47   \n",
      "2           32 km al NOROESTE de MOTOZINTLA, CHIS  2017-09-01  07:10:55   \n",
      "3      23 km al NOROESTE de PUERTO ESCONDIDO, OAX  2017-09-01  07:15:28   \n",
      "4            34 km al NORTE de MATIAS ROMERO, OAX  2017-09-01  07:24:18   \n",
      "...                                           ...         ...       ...   \n",
      "54557          54 km al NORESTE de CRUCECITA, OAX  2021-05-10  07:10:19   \n",
      "54558       53 km al SUR de SAYULA DE ALEMAN, VER  2021-05-10  07:15:51   \n",
      "54559      121 km al SUROESTE de PIJIJIAPAN, CHIS  2021-05-10  08:35:19   \n",
      "54560            75 km al SUR de CD HIDALGO, CHIS  2021-05-10  10:13:42   \n",
      "54561       21 km al NOROESTE de TEHUANTEPEC, OAX  2021-05-10  13:41:23   \n",
      "\n",
      "          Estatus  \n",
      "0        revisado  \n",
      "1        revisado  \n",
      "2        revisado  \n",
      "3        revisado  \n",
      "4        revisado  \n",
      "...           ...  \n",
      "54557  verificado  \n",
      "54558  verificado  \n",
      "54559  verificado  \n",
      "54560  verificado  \n",
      "54561  verificado  \n",
      "\n",
      "[54562 rows x 10 columns]\n"
     ]
    }
   ],
   "source": [
    "# Open the earthquake data file.\n",
    "filename = './/SSNMX_catalogo_20170901_20210510_lat12d85_18d66_lon-97d26_-88d69.csv'\n",
    "df = pd.read_csv ('.//SSNMX_catalogo_20170901_20210510_lat12d85_18d66_lon-97d26_-88d69.csv', skiprows=4)\n",
    "\n",
    "df = df.dropna()\n",
    "print(df)"
   ]
  },
  {
   "cell_type": "code",
   "execution_count": 21,
   "metadata": {},
   "outputs": [],
   "source": [
    "times=pd.to_datetime(df['Fecha'] + ' ' + df['Hora'])\n",
    "times_unix=((times - pd.Timestamp(\"1970-01-01\")) // pd.Timedelta('1s')).to_numpy()"
   ]
  },
  {
   "cell_type": "code",
   "execution_count": 34,
   "metadata": {},
   "outputs": [
    {
     "data": {
      "text/plain": [
       "(54562, 5)"
      ]
     },
     "execution_count": 34,
     "metadata": {},
     "output_type": "execute_result"
    }
   ],
   "source": [
    "import sklearn\n",
    "import sklearn.cluster\n",
    "\n",
    "times=pd.to_datetime(df['Fecha'] + ' ' + df['Hora'])\n",
    "times_unix=((times - pd.Timestamp(\"1970-01-01\")) // pd.Timedelta('1s')).to_numpy()\n",
    "long = df['Longitud'].to_numpy()\n",
    "lat=df['Latitud'].to_numpy()\n",
    "mag=lat=df['Magnitud'].to_numpy()\n",
    "depth=df['Profundidad'].to_numpy()\n",
    "X=np.transpose(np.stack([long,lat,depth, mag, times_unix]))\n",
    "X.shape"
   ]
  },
  {
   "cell_type": "code",
   "execution_count": 38,
   "metadata": {},
   "outputs": [],
   "source": [
    "kmeans = sklearn.cluster.KMeans(n_clusters=10000, random_state=0).fit(X)\n",
    "centres=kmeans.cluster_centers_"
   ]
  },
  {
   "cell_type": "code",
   "execution_count": 59,
   "metadata": {},
   "outputs": [],
   "source": [
    "\n",
    "dates= pd.to_datetime(centres[:,-1],unit='s')\n",
    "centre_dates=dates.strftime('%Y-%m-%d')\n",
    "    "
   ]
  },
  {
   "cell_type": "code",
   "execution_count": 51,
   "metadata": {},
   "outputs": [],
   "source": [
    "\n"
   ]
  },
  {
   "cell_type": "code",
   "execution_count": null,
   "metadata": {},
   "outputs": [],
   "source": []
  },
  {
   "cell_type": "code",
   "execution_count": null,
   "metadata": {},
   "outputs": [],
   "source": []
  },
  {
   "cell_type": "code",
   "execution_count": null,
   "metadata": {},
   "outputs": [],
   "source": []
  },
  {
   "cell_type": "code",
   "execution_count": null,
   "metadata": {},
   "outputs": [],
   "source": []
  },
  {
   "cell_type": "code",
   "execution_count": null,
   "metadata": {},
   "outputs": [],
   "source": []
  },
  {
   "cell_type": "code",
   "execution_count": null,
   "metadata": {},
   "outputs": [],
   "source": []
  },
  {
   "cell_type": "code",
   "execution_count": null,
   "metadata": {},
   "outputs": [],
   "source": []
  },
  {
   "cell_type": "code",
   "execution_count": null,
   "metadata": {},
   "outputs": [],
   "source": []
  },
  {
   "cell_type": "code",
   "execution_count": null,
   "metadata": {},
   "outputs": [],
   "source": []
  },
  {
   "cell_type": "code",
   "execution_count": null,
   "metadata": {},
   "outputs": [],
   "source": []
  },
  {
   "cell_type": "code",
   "execution_count": null,
   "metadata": {},
   "outputs": [],
   "source": []
  },
  {
   "cell_type": "code",
   "execution_count": null,
   "metadata": {},
   "outputs": [],
   "source": []
  },
  {
   "cell_type": "code",
   "execution_count": null,
   "metadata": {},
   "outputs": [],
   "source": [
    "PLOT THE CENTRES- NEED TO ALSO FIND OUT WHICH CLUSTER EACH EARTHQUAKE BELONGS TO "
   ]
  },
  {
   "cell_type": "code",
   "execution_count": null,
   "metadata": {},
   "outputs": [],
   "source": [
    "#VIDEO CODE \n",
    "dates=df['Fecha'].values.tolist()\n",
    "dates= list(dict.fromkeys(dates))\n",
    "\n",
    "\n",
    "fig, ax = plt.subplots(figsize=(12,7))\n",
    "lats_all=df['Latitud'].to_numpy()\n",
    "lons_all=df['Longitud'].to_numpy()\n",
    "magnitudes= df['Magnitud'].to_numpy()\n",
    "def get_marker_color(magnitude):\n",
    "    # Returns green for small earthquakes, yellow for moderate\n",
    "    #  earthquakes, and red for significant earthquakes.\n",
    "    if magnitude < 3.0:\n",
    "        return ('green')\n",
    "    elif magnitude < 5.0:\n",
    "        return ('yellow')\n",
    "    else:\n",
    "        return ('red')\n",
    "min_marker_size = 2.25\n",
    "\n",
    "land_50m = cfeature.NaturalEarthFeature('physical', 'land', '50m',\n",
    "                                    edgecolor='face',\n",
    "                                    facecolor=cfeature.COLORS['land'])\n",
    "for i, date in enumerate(dates): \n",
    "    fig, ax = plt.subplots(figsize=(12,7))\n",
    "    ax = plt.axes(projection=ccrs.PlateCarree(central_longitude=300)) # try centering the map somewhere else\n",
    "    ax.set_extent([lons_all.min()-8, lons_all.max()+8, lats_all.min()-8, lats_all.max()+8])\n",
    "    #ax.add_feature(cfeature.LAND)\n",
    "    ax.add_feature(cfeature.COASTLINE)\n",
    "    ax.add_feature(cfeature.OCEAN)\n",
    "    ax.add_feature(land_50m)\n",
    "    #ax.add_feature(states_provinces, edgecolor='gray')\n",
    "    #ax.set_xticks([0, 60, 120, 180, 240, 300, 360], crs=ccrs.PlateCarree())\n",
    "    #ax.set_yticks([-90, -60, -30, 0, 30, 60, 90], crs=ccrs.PlateCarree())\n",
    "    lon_formatter = LongitudeFormatter(zero_direction_label=True)\n",
    "    lat_formatter = LatitudeFormatter()\n",
    "    ax.xaxis.set_major_formatter(lon_formatter)\n",
    "    ax.yaxis.set_major_formatter(lat_formatter)\n",
    "\n",
    "    date_info=df.loc[df['Fecha'] == date]\n",
    "    lats=date_info['Latitud'].to_numpy()\n",
    "    lons=date_info['Longitud'].to_numpy()\n",
    "    magnitudes= date_info['Magnitud'].to_numpy()\n",
    "    for lon, lat, mag in zip(lons, lats, magnitudes):\n",
    "        msize = min_marker_size**mag/100\n",
    "        ax.scatter(lon,lat,s=msize, zorder=10, color=get_marker_color(mag) ,transform=ccrs.PlateCarree())\n",
    "        \n",
    "    centre_lat=centres[dates==date, 1]\n",
    "    centre_long=centres[dates==date, 0]\n",
    "    centre_mag=centre_lat=centres[centre_dates==date, 3]\n",
    "    for j in range(np.shape(centre_lat)[0]):\n",
    "        ax.scatter(lon,lat,s=4, zorder=10, color='blue' ,transform=ccrs.PlateCarree())\n",
    "        \n",
    "    plt.savefig('Time_plot_'+str(i).zfill(5)+'.tiff')\n",
    "    plt.close()\n",
    "    \n",
    "\n",
    "import glob\n",
    "import cv2\n",
    "import os\n",
    "img_array = []\n",
    "for filename in glob.glob('.//Time_plot*.tiff'):\n",
    "    img = cv2.imread(filename)\n",
    "    height, width, layers = img.shape\n",
    "    size = (width,height)\n",
    "    img_array.append(img)\n",
    " \n",
    " \n",
    "out = cv2.VideoWriter('earthquakes_over_time_1000_k_means.mp4',cv2.VideoWriter_fourcc(*'MJPG'), 15, size)\n",
    " \n",
    "for i in range(len(img_array)):\n",
    "    out.write(img_array[i])\n",
    "for filename in glob.glob('.//Time_plot*.png'):\n",
    "    os.remove(filename)\n",
    "out.release()"
   ]
  },
  {
   "cell_type": "code",
   "execution_count": null,
   "metadata": {},
   "outputs": [],
   "source": []
  }
 ],
 "metadata": {
  "kernelspec": {
   "display_name": "Python 3",
   "language": "python",
   "name": "python3"
  },
  "language_info": {
   "codemirror_mode": {
    "name": "ipython",
    "version": 3
   },
   "file_extension": ".py",
   "mimetype": "text/x-python",
   "name": "python",
   "nbconvert_exporter": "python",
   "pygments_lexer": "ipython3",
   "version": "3.7.6"
  }
 },
 "nbformat": 4,
 "nbformat_minor": 4
}
